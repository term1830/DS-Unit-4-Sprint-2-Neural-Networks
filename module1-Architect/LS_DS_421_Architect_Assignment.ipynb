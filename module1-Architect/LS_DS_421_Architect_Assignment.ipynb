{
 "cells": [
  {
   "cell_type": "markdown",
   "metadata": {
    "colab_type": "text",
    "id": "ObyHCH8HvHSf"
   },
   "source": [
    "<img align=\"left\" src=\"https://lever-client-logos.s3.amazonaws.com/864372b1-534c-480e-acd5-9711f850815c-1524247202159.png\" width=200>\n",
    "<br></br>\n",
    "<br></br>\n",
    "\n",
    "# *Data Science Unit 4 Sprint 2 Assignment 1*\n",
    "\n",
    "Use TensorFlow Keras & a sample of the [Quickdraw dataset](https://github.com/googlecreativelab/quickdraw-dataset) to build a sketch classification model. The dataset has been sampled to only 10 classes and 10000 observations per class. Please build a baseline classification model then run a few experiments with different optimizers and learning rates. \n",
    "\n",
    "*Don't forgot to switch to GPU on Colab!*"
   ]
  },
  {
   "cell_type": "markdown",
   "metadata": {
    "colab_type": "text",
    "id": "s-Tc3ovEyQ9b"
   },
   "source": [
    "## Load Your Data"
   ]
  },
  {
   "cell_type": "code",
   "execution_count": 5,
   "metadata": {
    "colab": {},
    "colab_type": "code",
    "id": "CkU0pAYCvU8o"
   },
   "outputs": [
    {
     "name": "stdout",
     "output_type": "stream",
     "text": [
      "(100000, 784)\n",
      "(100000,)\n"
     ]
    }
   ],
   "source": [
    "import numpy as np\n",
    "import tensorflow as tf \n",
    "\n",
    "data = np.load('quickdraw10.npz')\n",
    "X = data['arr_0']\n",
    "y = data['arr_1']\n",
    "\n",
    "print(X.shape)\n",
    "print(y.shape)"
   ]
  },
  {
   "cell_type": "code",
   "execution_count": 6,
   "metadata": {
    "colab": {},
    "colab_type": "code",
    "id": "c8qsDqdqvHDd"
   },
   "outputs": [],
   "source": [
    "class_names = ['apple',\n",
    " 'anvil',\n",
    " 'airplane',\n",
    " 'banana',\n",
    " 'The Eiffel Tower',\n",
    " 'The Mona Lisa',\n",
    " 'The Great Wall of China',\n",
    " 'alarm clock',\n",
    " 'ant',\n",
    " 'asparagus']"
   ]
  },
  {
   "cell_type": "code",
   "execution_count": 7,
   "metadata": {
    "colab": {},
    "colab_type": "code",
    "id": "Owbm1EbxvA5A"
   },
   "outputs": [
    {
     "data": {
      "image/png": "[encoded data removed]",
      "text/plain": [
       "<Figure size 720x360 with 10 Axes>"
      ]
     },
     "metadata": {},
     "output_type": "display_data"
    }
   ],
   "source": [
    "import matplotlib.pyplot as plt\n",
    "plt.figure(figsize=(10,5))\n",
    "start = 0\n",
    "\n",
    "for num, name in enumerate(class_names):\n",
    "    plt.subplot(2,5, num+1)\n",
    "    plt.xticks([])\n",
    "    plt.yticks([])\n",
    "    plt.grid(False)\n",
    "    plt.imshow(X[start].reshape(28,28), cmap=plt.cm.binary)\n",
    "    plt.xlabel(name)\n",
    "    start += 10000\n",
    "plt.show()"
   ]
  },
  {
   "cell_type": "code",
   "execution_count": 8,
   "metadata": {
    "colab": {},
    "colab_type": "code",
    "id": "c97_M1WNvTNY"
   },
   "outputs": [],
   "source": [
    "# Need this line to randomly shuffle both the X & y at the same time.\n",
    "\n",
    "from sklearn.utils import shuffle\n",
    "X, y = shuffle(X, y)"
   ]
  },
  {
   "cell_type": "markdown",
   "metadata": {
    "colab_type": "text",
    "id": "jb70CbLVyK65"
   },
   "source": [
    "## Build Your Baseline Model\n",
    "Some Hints:\n",
    "\n",
    "\n",
    "*  Model should have 784 input values (like mnist)\n",
    "*  Use `sparse_categorical_crossentropy` as your loss function.\n",
    "* You need 10 neurons in your last layer for output\n",
    "* You can add as many hidden layers with as many neurons in them as you like. \n",
    "* Limit your model epochs to 30 each time you fit.\n",
    "* You can use the `validation_split` command to automatically create a training / validation dataset.  Specify a percentage such as .2 in your fit statement. \n",
    "\n"
   ]
  },
  {
   "cell_type": "code",
   "execution_count": 69,
   "metadata": {
    "colab": {},
    "colab_type": "code",
    "id": "zHWblzsMyNkU"
   },
   "outputs": [],
   "source": [
    "import tensorflow as tf\n",
    "import seaborn as sns\n",
    "import pandas as pd\n",
    "from tensorflow.keras.models import Sequential\n",
    "from tensorflow.keras.layers import Dense\n",
    "from tensorflow.keras.optimizers import SGD, Adam"
   ]
  },
  {
   "cell_type": "code",
   "execution_count": 59,
   "metadata": {},
   "outputs": [],
   "source": []
  },
  {
   "cell_type": "code",
   "execution_count": 70,
   "metadata": {},
   "outputs": [],
   "source": [
    "model = Sequential()\n",
    "adam = Adam()\n",
    "sgd = SGD()\n",
    "\n",
    "model.add(Dense(units=64, activation='relu'))\n",
    "# Hidden layer #2\n",
    "model.add(Dense(32, activation='relu'))\n",
    "\n",
    "# Output layer #1\n",
    "model.add(Dense(10, activation='softmax'))\n",
    "\n",
    "\n",
    "\n",
    "# model.summary()"
   ]
  },
  {
   "cell_type": "code",
   "execution_count": 76,
   "metadata": {},
   "outputs": [
    {
     "name": "stdout",
     "output_type": "stream",
     "text": [
      "Epoch 1/30\n",
      "2500/2500 [==============================] - 1s 577us/step - loss: 2.3025 - accuracy: 0.0984 - val_loss: 2.3025 - val_accuracy: 0.1009\n",
      "Epoch 2/30\n",
      "2500/2500 [==============================] - 1s 505us/step - loss: 2.3025 - accuracy: 0.0993 - val_loss: 2.3025 - val_accuracy: 0.0989\n",
      "Epoch 3/30\n",
      "2500/2500 [==============================] - 1s 493us/step - loss: 2.3025 - accuracy: 0.0981 - val_loss: 2.3025 - val_accuracy: 0.1009\n",
      "Epoch 4/30\n",
      "2500/2500 [==============================] - 1s 487us/step - loss: 2.3025 - accuracy: 0.0987 - val_loss: 2.3026 - val_accuracy: 0.0989\n",
      "Epoch 5/30\n",
      "2500/2500 [==============================] - 1s 504us/step - loss: 2.3025 - accuracy: 0.1009 - val_loss: 2.3026 - val_accuracy: 0.0987\n",
      "Epoch 6/30\n",
      "2500/2500 [==============================] - 1s 479us/step - loss: 2.3026 - accuracy: 0.0974 - val_loss: 2.3026 - val_accuracy: 0.0992\n",
      "Epoch 7/30\n",
      "2500/2500 [==============================] - 1s 555us/step - loss: 2.3025 - accuracy: 0.0995 - val_loss: 2.3026 - val_accuracy: 0.0987\n",
      "Epoch 8/30\n",
      "2500/2500 [==============================] - 1s 520us/step - loss: 2.3026 - accuracy: 0.0988 - val_loss: 2.3026 - val_accuracy: 0.0963\n",
      "Epoch 9/30\n",
      "2500/2500 [==============================] - 1s 489us/step - loss: 2.3025 - accuracy: 0.1005 - val_loss: 2.3026 - val_accuracy: 0.0994\n",
      "Epoch 10/30\n",
      "2500/2500 [==============================] - 1s 483us/step - loss: 2.3025 - accuracy: 0.0981 - val_loss: 2.3027 - val_accuracy: 0.0987\n",
      "Epoch 11/30\n",
      "2500/2500 [==============================] - 1s 479us/step - loss: 2.3025 - accuracy: 0.0987 - val_loss: 2.3026 - val_accuracy: 0.0987\n",
      "Epoch 12/30\n",
      "2500/2500 [==============================] - 1s 516us/step - loss: 2.3025 - accuracy: 0.0987 - val_loss: 2.3026 - val_accuracy: 0.1009\n",
      "Epoch 13/30\n",
      "2500/2500 [==============================] - 1s 487us/step - loss: 2.3025 - accuracy: 0.0989 - val_loss: 2.3026 - val_accuracy: 0.1009\n",
      "Epoch 14/30\n",
      "2500/2500 [==============================] - 1s 478us/step - loss: 2.3025 - accuracy: 0.0992 - val_loss: 2.3027 - val_accuracy: 0.0963\n",
      "Epoch 15/30\n",
      "2500/2500 [==============================] - 1s 482us/step - loss: 2.3025 - accuracy: 0.0991 - val_loss: 2.3027 - val_accuracy: 0.0963\n",
      "Epoch 16/30\n",
      "2500/2500 [==============================] - 1s 491us/step - loss: 2.3025 - accuracy: 0.0993 - val_loss: 2.3026 - val_accuracy: 0.1013\n",
      "Epoch 17/30\n",
      "2500/2500 [==============================] - 1s 475us/step - loss: 2.3025 - accuracy: 0.1008 - val_loss: 2.3027 - val_accuracy: 0.0963\n",
      "Epoch 18/30\n",
      "2500/2500 [==============================] - 1s 480us/step - loss: 2.3025 - accuracy: 0.0984 - val_loss: 2.3027 - val_accuracy: 0.0989\n",
      "Epoch 19/30\n",
      "2500/2500 [==============================] - 1s 476us/step - loss: 2.3025 - accuracy: 0.0994 - val_loss: 2.3026 - val_accuracy: 0.0963\n",
      "Epoch 20/30\n",
      "2500/2500 [==============================] - 1s 478us/step - loss: 2.3025 - accuracy: 0.1001 - val_loss: 2.3026 - val_accuracy: 0.0987\n",
      "Epoch 21/30\n",
      "2500/2500 [==============================] - 1s 480us/step - loss: 2.3025 - accuracy: 0.0993 - val_loss: 2.3027 - val_accuracy: 0.0963\n",
      "Epoch 22/30\n",
      "2500/2500 [==============================] - 1s 487us/step - loss: 2.3025 - accuracy: 0.0987 - val_loss: 2.3026 - val_accuracy: 0.0992\n",
      "Epoch 23/30\n",
      "2500/2500 [==============================] - 1s 527us/step - loss: 2.3025 - accuracy: 0.0994 - val_loss: 2.3026 - val_accuracy: 0.0989\n",
      "Epoch 24/30\n",
      "2500/2500 [==============================] - 1s 507us/step - loss: 2.3025 - accuracy: 0.0996 - val_loss: 2.3025 - val_accuracy: 0.0987\n",
      "Epoch 25/30\n",
      "2500/2500 [==============================] - 1s 543us/step - loss: 2.3025 - accuracy: 0.0993 - val_loss: 2.3025 - val_accuracy: 0.0987\n",
      "Epoch 26/30\n",
      "2500/2500 [==============================] - 1s 528us/step - loss: 2.3026 - accuracy: 0.0986 - val_loss: 2.3025 - val_accuracy: 0.0987\n",
      "Epoch 27/30\n",
      "2500/2500 [==============================] - 1s 505us/step - loss: 2.3025 - accuracy: 0.1001 - val_loss: 2.3025 - val_accuracy: 0.0989\n",
      "Epoch 28/30\n",
      "2500/2500 [==============================] - 1s 514us/step - loss: 2.3025 - accuracy: 0.0993 - val_loss: 2.3027 - val_accuracy: 0.0989\n",
      "Epoch 29/30\n",
      "2500/2500 [==============================] - 1s 551us/step - loss: 2.3025 - accuracy: 0.0986 - val_loss: 2.3025 - val_accuracy: 0.0987\n",
      "Epoch 30/30\n",
      "2500/2500 [==============================] - 1s 523us/step - loss: 2.3025 - accuracy: 0.0976 - val_loss: 2.3027 - val_accuracy: 0.0963\n"
     ]
    },
    {
     "data": {
      "text/plain": [
       "<tensorflow.python.keras.callbacks.History at 0x22f145c3f98>"
      ]
     },
     "execution_count": 76,
     "metadata": {},
     "output_type": "execute_result"
    }
   ],
   "source": [
    "model.compile(loss=\"sparse_categorical_crossentropy\", optimizer='sgd', metrics=['accuracy'])\n",
    "model.fit(X, y, validation_split=0.2, epochs=30)"
   ]
  },
  {
   "cell_type": "code",
   "execution_count": 66,
   "metadata": {},
   "outputs": [
    {
     "name": "stdout",
     "output_type": "stream",
     "text": [
      "Model: \"sequential_28\"\n",
      "_________________________________________________________________\n",
      "Layer (type)                 Output Shape              Param #   \n",
      "=================================================================\n",
      "dense_64 (Dense)             (32, 64)                  50240     \n",
      "_________________________________________________________________\n",
      "dense_65 (Dense)             (32, 32)                  2080      \n",
      "_________________________________________________________________\n",
      "dense_66 (Dense)             (32, 10)                  330       \n",
      "=================================================================\n",
      "Total params: 52,650\n",
      "Trainable params: 52,650\n",
      "Non-trainable params: 0\n",
      "_________________________________________________________________\n"
     ]
    }
   ],
   "source": [
    "model.summary()"
   ]
  },
  {
   "cell_type": "markdown",
   "metadata": {
    "colab_type": "text",
    "id": "b0QJURWh-9uv"
   },
   "source": [
    "### Visualize the results\n",
    "\n",
    "Create charts for both loss and accuracy by epoch. Use line graphs for both charts. Analyze the results. \n",
    "\n",
    "At what point should we have stopped training the model and why? "
   ]
  },
  {
   "cell_type": "code",
   "execution_count": 68,
   "metadata": {
    "colab": {},
    "colab_type": "code",
    "id": "KONJtU5wqlXf"
   },
   "outputs": [
    {
     "data": {
      "text/plain": [
       "<tensorflow.python.keras.callbacks.History at 0x22f1333be48>"
      ]
     },
     "execution_count": 68,
     "metadata": {},
     "output_type": "execute_result"
    }
   ],
   "source": [
    "model.history"
   ]
  },
  {
   "cell_type": "code",
   "execution_count": 84,
   "metadata": {
    "colab": {},
    "colab_type": "code",
    "id": "ijAlzfYKAFaY"
   },
   "outputs": [
    {
     "data": {
      "image/png": "[encoded data removed]",
      "text/plain": [
       "<Figure size 432x288 with 1 Axes>"
      ]
     },
     "metadata": {
      "needs_background": "light"
     },
     "output_type": "display_data"
    }
   ],
   "source": [
    "\n",
    "\n",
    "df = pd.DataFrame.from_records(model.history.history)\n",
    "df['epoch'] = [i for i in range(df.shape[0])]\n",
    "\n",
    "ax = sns.lineplot(x='epoch', y='val_loss', data=df)\n",
    "ax = sns.lineplot(x='epoch', y='loss', data=df);"
   ]
  },
  {
   "cell_type": "markdown",
   "metadata": {
    "colab_type": "text",
    "id": "MAhBrcE4yOZe"
   },
   "source": [
    "## Change Optimizers\n",
    "Try using the keras `adam` optimizer instead of `sgd` in your model. Visualize the difference in validation loss between the models with different optimizers. "
   ]
  },
  {
   "cell_type": "code",
   "execution_count": 83,
   "metadata": {
    "colab": {},
    "colab_type": "code",
    "id": "jIW_spOZ0cxy"
   },
   "outputs": [
    {
     "name": "stdout",
     "output_type": "stream",
     "text": [
      "Epoch 1/30\n",
      "2500/2500 [==============================] - 2s 602us/step - loss: 2.6809 - accuracy: 0.4719 - val_loss: 1.3191 - val_accuracy: 0.6065\n",
      "Epoch 2/30\n",
      "2500/2500 [==============================] - 1s 563us/step - loss: 1.1011 - accuracy: 0.6599 - val_loss: 1.0289 - val_accuracy: 0.7035\n",
      "Epoch 3/30\n",
      "2500/2500 [==============================] - 1s 558us/step - loss: 0.8892 - accuracy: 0.7389 - val_loss: 0.8621 - val_accuracy: 0.7508\n",
      "Epoch 4/30\n",
      "2500/2500 [==============================] - 1s 562us/step - loss: 0.8082 - accuracy: 0.7637 - val_loss: 0.8704 - val_accuracy: 0.7429\n",
      "Epoch 5/30\n",
      "2500/2500 [==============================] - 2s 685us/step - loss: 0.7804 - accuracy: 0.7720 - val_loss: 0.8604 - val_accuracy: 0.7588\n",
      "Epoch 6/30\n",
      "2500/2500 [==============================] - 1s 598us/step - loss: 0.7724 - accuracy: 0.7751 - val_loss: 0.8180 - val_accuracy: 0.7710\n",
      "Epoch 7/30\n",
      "2500/2500 [==============================] - 1s 565us/step - loss: 0.7585 - accuracy: 0.7796 - val_loss: 0.8256 - val_accuracy: 0.7614\n",
      "Epoch 8/30\n",
      "2500/2500 [==============================] - 1s 526us/step - loss: 0.7487 - accuracy: 0.7817 - val_loss: 0.8154 - val_accuracy: 0.7799\n",
      "Epoch 9/30\n",
      "2500/2500 [==============================] - 1s 525us/step - loss: 0.7416 - accuracy: 0.7853 - val_loss: 0.8150 - val_accuracy: 0.7757\n",
      "Epoch 10/30\n",
      "2500/2500 [==============================] - 1s 545us/step - loss: 0.7396 - accuracy: 0.7855 - val_loss: 0.8284 - val_accuracy: 0.7775\n",
      "Epoch 11/30\n",
      "2500/2500 [==============================] - 1s 541us/step - loss: 0.7309 - accuracy: 0.7875 - val_loss: 0.8422 - val_accuracy: 0.7775\n",
      "Epoch 12/30\n",
      "2500/2500 [==============================] - 1s 554us/step - loss: 0.7316 - accuracy: 0.7878 - val_loss: 0.8311 - val_accuracy: 0.7682\n",
      "Epoch 13/30\n",
      "2500/2500 [==============================] - 1s 540us/step - loss: 0.7259 - accuracy: 0.7896 - val_loss: 0.8087 - val_accuracy: 0.7763\n",
      "Epoch 14/30\n",
      "2500/2500 [==============================] - 1s 537us/step - loss: 0.7252 - accuracy: 0.7886 - val_loss: 0.8157 - val_accuracy: 0.7777\n",
      "Epoch 15/30\n",
      "2500/2500 [==============================] - 1s 568us/step - loss: 0.7231 - accuracy: 0.7889 - val_loss: 0.8549 - val_accuracy: 0.7765\n",
      "Epoch 16/30\n",
      "2500/2500 [==============================] - 1s 531us/step - loss: 0.7172 - accuracy: 0.7903 - val_loss: 0.8748 - val_accuracy: 0.7671\n",
      "Epoch 17/30\n",
      "2500/2500 [==============================] - 1s 516us/step - loss: 0.7089 - accuracy: 0.7922 - val_loss: 0.8884 - val_accuracy: 0.7692\n",
      "Epoch 18/30\n",
      "2500/2500 [==============================] - 1s 516us/step - loss: 0.7125 - accuracy: 0.7925 - val_loss: 0.8848 - val_accuracy: 0.7743\n",
      "Epoch 19/30\n",
      "2500/2500 [==============================] - 1s 535us/step - loss: 0.7128 - accuracy: 0.7931 - val_loss: 0.8562 - val_accuracy: 0.7768\n",
      "Epoch 20/30\n",
      "2500/2500 [==============================] - 1s 555us/step - loss: 0.7026 - accuracy: 0.7952 - val_loss: 0.9054 - val_accuracy: 0.7727\n",
      "Epoch 21/30\n",
      "2500/2500 [==============================] - 1s 535us/step - loss: 0.7134 - accuracy: 0.7921 - val_loss: 1.0410 - val_accuracy: 0.7767\n",
      "Epoch 22/30\n",
      "2500/2500 [==============================] - 1s 512us/step - loss: 0.7085 - accuracy: 0.7930 - val_loss: 0.9195 - val_accuracy: 0.7739\n",
      "Epoch 23/30\n",
      "2500/2500 [==============================] - 1s 519us/step - loss: 0.7061 - accuracy: 0.7931 - val_loss: 0.8829 - val_accuracy: 0.7771\n",
      "Epoch 24/30\n",
      "2500/2500 [==============================] - 1s 518us/step - loss: 0.7024 - accuracy: 0.7936 - val_loss: 0.8960 - val_accuracy: 0.7735\n",
      "Epoch 25/30\n",
      "2500/2500 [==============================] - 1s 541us/step - loss: 0.7073 - accuracy: 0.7952 - val_loss: 0.9429 - val_accuracy: 0.7667\n",
      "Epoch 26/30\n",
      "2500/2500 [==============================] - 2s 626us/step - loss: 0.7032 - accuracy: 0.7952 - val_loss: 0.9377 - val_accuracy: 0.7721\n",
      "Epoch 27/30\n",
      "2500/2500 [==============================] - 1s 551us/step - loss: 0.7023 - accuracy: 0.7952 - val_loss: 0.9343 - val_accuracy: 0.7714\n",
      "Epoch 28/30\n",
      "2500/2500 [==============================] - 1s 558us/step - loss: 0.7005 - accuracy: 0.7950 - val_loss: 0.9405 - val_accuracy: 0.7552\n",
      "Epoch 29/30\n",
      "2500/2500 [==============================] - 1s 553us/step - loss: 0.7016 - accuracy: 0.7956 - val_loss: 0.9734 - val_accuracy: 0.7570\n",
      "Epoch 30/30\n",
      "2500/2500 [==============================] - 1s 555us/step - loss: 0.7016 - accuracy: 0.7957 - val_loss: 0.9278 - val_accuracy: 0.7714\n",
      "Model: \"sequential_33\"\n",
      "_________________________________________________________________\n",
      "Layer (type)                 Output Shape              Param #   \n",
      "=================================================================\n",
      "dense_79 (Dense)             (32, 64)                  50240     \n",
      "_________________________________________________________________\n",
      "dense_80 (Dense)             (32, 10)                  650       \n",
      "=================================================================\n",
      "Total params: 50,890\n",
      "Trainable params: 50,890\n",
      "Non-trainable params: 0\n",
      "_________________________________________________________________\n"
     ]
    }
   ],
   "source": [
    "from tensorflow.keras.optimizers import SGD, Adam\n",
    "adam = Adam()\n",
    "\n",
    "model = Sequential()\n",
    "adam = Adam()\n",
    "sgd = SGD()\n",
    "\n",
    "model.add(Dense(units=64, activation='relu'))\n",
    "# Hidden layer #2\n",
    "# model.add(Dense(32, activation='relu'))\n",
    "\n",
    "# Output layer #1\n",
    "model.add(Dense(10, activation='softmax'))\n",
    "\n",
    "model.compile(loss=\"sparse_categorical_crossentropy\", optimizer=adam, metrics=['accuracy'])\n",
    "model.fit(X, y, validation_split=0.2, epochs=30)\n",
    "\n",
    "model.summary()"
   ]
  },
  {
   "cell_type": "markdown",
   "metadata": {
    "colab_type": "text",
    "id": "EJrbh3qryi4w"
   },
   "source": [
    "### Additional Written Tasks:\n",
    "In this section, you will need to search for resources: \n",
    "1. Investigate the various [loss functions](https://www.tensorflow.org/api_docs/python/tf/keras/losses). Which is best suited for the task at hand (predicting 1 / 0) and why? \n",
    "2. What is the difference between a loss function and a metric? Why might we need both in Keras? \n",
    "3. Investigate the various [optimizers](https://www.tensorflow.org/api_docs/python/tf/keras/optimizers). Stochastic Gradient Descent (`sgd`) is not the learning algorithm dejour anyone. Why is that? What do newer optimizers such as `adam` have to offer? "
   ]
  },
  {
   "cell_type": "markdown",
   "metadata": {
    "colab_type": "text",
    "id": "Gzs4fd-RynDd"
   },
   "source": [
    "## Stretch Goals: \n",
    "\n",
    "- Research convolutional neural networks and try including convolution layers in your network.\n",
    "- Pick two classes and make QuickDraw a binary classification problem, how does your model architecture change?\n",
    "- Implement Cross Validation model evaluation on your Quickdraw implementation \n",
    "\n",
    "Watch some more videos on Gradient Descent:\n",
    "- [Gradient Descent, Step-by-Step](https://www.youtube.com/watch?v=sDv4f4s2SB8)  by StatQuest w/ Josh Starmer. This will help you understand the gradient descent based optimization that happens underneath the hood of neural networks. It uses a non-neural network example, which I believe is a gentler introduction. You will hear me refer to this technique as \"vanilla\" gradient descent. \n",
    "- [Stochastic Gradient Descent, Clearly Explained!!!](https://www.youtube.com/watch?v=vMh0zPT0tLI) by StatQuest w/ Josh Starmer. This builds on the techniques in the previous video.  This technique is the one that is actually implemented inside modern 'nets. \n",
    "- [Siraj Raval the evolution of gradient descent](https://www.youtube.com/watch?v=nhqo0u1a6fw)"
   ]
  }
 ],
 "metadata": {
  "accelerator": "GPU",
  "colab": {
   "collapsed_sections": [],
   "name": "LS_DS_432_TensorFlow_Assignment",
   "provenance": []
  },
  "kernelspec": {
   "display_name": "U4-S2-NN",
   "language": "python",
   "name": "u4-s2-nn"
  },
  "language_info": {
   "codemirror_mode": {
    "name": "ipython",
    "version": 3
   },
   "file_extension": ".py",
   "mimetype": "text/x-python",
   "name": "python",
   "nbconvert_exporter": "python",
   "pygments_lexer": "ipython3",
   "version": "3.7.0"
  }
 },
 "nbformat": 4,
 "nbformat_minor": 1
}
