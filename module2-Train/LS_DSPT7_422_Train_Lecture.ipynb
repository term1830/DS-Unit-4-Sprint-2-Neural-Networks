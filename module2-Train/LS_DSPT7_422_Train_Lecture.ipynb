{
  "nbformat": 4,
  "nbformat_minor": 0,
  "metadata": {
    "colab": {
      "name": "LS_DSPT7_422_Train_Lecture.ipynb",
      "provenance": [],
      "collapsed_sections": []
    },
    "kernelspec": {
      "display_name": "Python 3",
      "language": "python",
      "name": "python3"
    },
    "language_info": {
      "codemirror_mode": {
        "name": "ipython",
        "version": 3
      },
      "file_extension": ".py",
      "mimetype": "text/x-python",
      "name": "python",
      "nbconvert_exporter": "python",
      "pygments_lexer": "ipython3",
      "version": "3.7.7"
    },
    "accelerator": "GPU"
  },
  "cells": [
    {
      "cell_type": "markdown",
      "metadata": {
        "id": "aS4GZ37Wgcjr"
      },
      "source": [
        "Lambda School Data Science\n",
        "\n",
        "*Unit 4, Sprint 2, Module 2*\n",
        "\n",
        "---"
      ]
    },
    {
      "cell_type": "markdown",
      "metadata": {
        "id": "etFf1WLWgcjt",
        "toc-hr-collapsed": false
      },
      "source": [
        "# Train (Prepare)\n",
        "__*Neural Network Foundations*__"
      ]
    },
    {
      "cell_type": "markdown",
      "metadata": {
        "id": "hXB80QOhgcju"
      },
      "source": [
        "## Learning Objectives\n",
        "* <a href=\"#p1\">Part 1</a>: Student should be able to explain the intuition behind backpropagation and gradient descent\n",
        "* <a href=\"#p2\">Part 2</a>: Student should be able to discuss the importance of batch size\n",
        "* <a href=\"#p3\">Part 3</a>: Student should be able to discuss the importance of learning rate"
      ]
    },
    {
      "cell_type": "markdown",
      "metadata": {
        "id": "8YuQu2lfgcju"
      },
      "source": [
        "## Summary of Yesterday\n",
        "\n",
        "Yesterday, we learned about some of the principal components of Neural Networks: Neurons, Weights, Activation Functions, and layers (input, output, & hidden). Today, we will reinforce our understanding of those components and introduce the mechanics of training a neural network. Feed-forward neural networks, such as multi-layer perceptrons (MLPs), are almost always trained using some variation of gradient descent where the gradient has been calculated by backpropagation.\n",
        "\n",
        "  <center><img src=\"https://raw.githubusercontent.com/LambdaSchool/DS-Unit-4-Sprint-2-Neural-Networks/main/module1-Architect/IMG_0167.jpeg\" width=400></center>\n",
        "\n",
        "- There are three kinds of layers: input, hidden, and output layers.\n",
        "- Each layer is made up of **n** individual neurons (aka activation units) which have a corresponding weight and bias.\n",
        "- Signal is passed from layer to layer through a network by:\n",
        " - Taking in inputs from the training data (or previous layer)\n",
        " - Multiplying each input by its corresponding weight (think arrow/connecting line)\n",
        " - Adding a bias to this weighted some of inputs and weights\n",
        " - Activating this weighted sum + bias by squishifying it with sigmoid or some other activation function. With a single perceptron with three inputs, calculating the output from the node is done like so:\n",
        "\\begin{align}\n",
        " y = sigmoid(\\sum(weight_{1}input_{1} + weight_{2}input_{2} + weight_{3}input_{3}) + bias)\n",
        "\\end{align}\n",
        " - this final activated value is the signal that gets passed onto the next layer of the network.\n",
        " "
      ]
    },
    {
      "cell_type": "markdown",
      "metadata": {
        "id": "bpi4R03rgcjv"
      },
      "source": [
        "## Training a Neural Network: *Formal Summary*\n",
        "\n",
        "0. Pick a network architecture\n",
        "   - No. of input units = No. of features\n",
        "   - No. of output units = Number of Classes (or expected targets)\n",
        "   - Select the number of hidden layers and number of neurons within each hidden layer\n",
        "1. Randomly initialize weights\n",
        "2. Implement forward propagation to get $h_{\\theta}(x^{(i)})$ for any $x^{(i)}$\n",
        "3. Implement code to compute a cost function $J(\\theta)$\n",
        "4. Implement backpropagation to compute partial derivatives $\\frac{\\delta}{\\delta\\theta_{jk}^{l}}{J(\\theta)}$\n",
        "5. Use gradient descent (or other advanced optimizer) with backpropagation to minimize $J(\\theta)$ as a function of parameters $\\theta\\$\n",
        "6. Repeat steps 2 - 5 until cost function is 'minimized' or some other stopping criteria is met. One pass over steps 2 - 5 is called an iteration or epoch."
      ]
    },
    {
      "cell_type": "markdown",
      "metadata": {
        "id": "aM4CK1IarId4",
        "toc-hr-collapsed": false
      },
      "source": [
        "# Backpropagation & Gradient Descent (Learn)\n",
        "<a id=\"p1\"></a>"
      ]
    },
    {
      "cell_type": "markdown",
      "metadata": {
        "id": "Ktm8Fmoagcjy",
        "toc-hr-collapsed": true
      },
      "source": [
        "## Overview\n",
        "\n",
        "Backpropagation is short for [\"Backwards Propagation of errors\"](https://en.wikipedia.org/wiki/Backpropagation) and refers to a specific (rather calculus intensive) algorithm for how weights in a neural network are updated in reverse order at the end of each training epoch. Our purpose today is to demonstrate the backpropagation algorithm on a simple Feedforward Neural Network and in so doing help you get a grasp on the main process. If you want to understand all of the underlying calculus of how the gradients are calculated then you'll need to dive into it yourself, [3Blue1Brown's video is a great starting place](https://www.youtube.com/watch?v=tIeHLnjs5U8). I also highly recommend this Welch Labs series [Neural Networks Demystified](https://www.youtube.com/watch?v=bxe2T-V8XRs) if you want a rapid yet orderly walk through of the main intuitions and math behind the backpropagation algorithm. "
      ]
    },
    {
      "cell_type": "markdown",
      "metadata": {
        "id": "NXI2tEO9gcjy"
      },
      "source": [
        "### What is a Gradient?\n",
        "\n",
        "> In vector calculus, the gradient is a multi-variable generalization of the derivative. \n",
        "\n",
        "The gradients that we will deal with today will be vector representations of the derivative of the activation function. "
      ]
    },
    {
      "cell_type": "markdown",
      "metadata": {
        "id": "UZY66kiUgcjz",
        "toc-hr-collapsed": true
      },
      "source": [
        "## Follow Along\n",
        "\n",
        "In this section, we will again a simple neural network using base TensorFlow. We'll focus on using a __Feed Forward Neural Network__ to predict test scores. "
      ]
    },
    {
      "cell_type": "markdown",
      "metadata": {
        "id": "Dm2HPETcrgy6",
        "toc-hr-collapsed": true
      },
      "source": [
        "<center><img src=\"https://raw.githubusercontent.com/LambdaSchool/DS-Unit-4-Sprint-2-Neural-Networks/main/module1-Architect/IMG_99C94113202D-1.jpeg\"width=500></center>"
      ]
    },
    {
      "cell_type": "markdown",
      "metadata": {
        "id": "4d4tzpwO6B47"
      },
      "source": [
        "### Generate some Fake Data"
      ]
    },
    {
      "cell_type": "code",
      "metadata": {
        "id": "ERyVgeO_IWyV"
      },
      "source": [
        "import tensorflow as tf\n",
        "\n",
        "# Imagine that our data is drawn from a linear function\n",
        "# y = 3.5*hours_studying + 50\n",
        "\n",
        "TRUE_W = 3.5\n",
        "TRUE_b = 50.0\n",
        "NUM_EXAMPLES = 1000\n",
        "\n",
        "inputs = tf.random.normal(shape=[NUM_EXAMPLES])\n",
        "noise = tf.random.normal(shape=[NUM_EXAMPLES])\n",
        "\n",
        "outputs = inputs * TRUE_W + TRUE_b + noise"
      ],
      "execution_count": null,
      "outputs": []
    },
    {
      "cell_type": "markdown",
      "metadata": {
        "id": "bCJesGEUgcj4"
      },
      "source": [
        "### Loss Function\n",
        "Here we will use Mean Squared Error (MSE), because this is a regression problem. We are trying to predict a continuous target."
      ]
    },
    {
      "cell_type": "code",
      "metadata": {
        "id": "cDeUBW6k4Ri4"
      },
      "source": [
        "def loss(target_y, predicted_y):\n",
        "  \"MSE\"\n",
        "  return tf.reduce_mean(tf.square(target_y - predicted_y))"
      ],
      "execution_count": null,
      "outputs": []
    },
    {
      "cell_type": "markdown",
      "metadata": {
        "id": "bgTf6vTS69Sw"
      },
      "source": [
        "### Neural Network Architecture\n",
        "Lets create a Neural Network class called \"Model\" to contain this functionality. Note: This is essentially a linear regression whose coefficients are trained by gradient descent. In practice, gradient descent works on much more complex function like the multi-layer networks we constructed yesterday."
      ]
    },
    {
      "cell_type": "code",
      "metadata": {
        "id": "RUI8VSR5zyBv"
      },
      "source": [
        "class Model(object):\n",
        "\n",
        "  def __init__(self):\n",
        "    self.W = tf.Variable(10.0)\n",
        "    self.b = tf.Variable(20.0)\n",
        "\n",
        "  def __call__(self, x):\n",
        "    return self.W * x + self.b\n",
        "\n",
        "model = Model()\n",
        "\n",
        "# assert model(3.0).numpy() == 64.0"
      ],
      "execution_count": null,
      "outputs": []
    },
    {
      "cell_type": "markdown",
      "metadata": {
        "id": "gbyT_FJ88IlK"
      },
      "source": [
        "### Initial Weights\n",
        "The initial weights in our model were arbitrary. In practice, weights are initialized randomly. "
      ]
    },
    {
      "cell_type": "code",
      "metadata": {
        "id": "IreIDe6P8H0H",
        "outputId": "696c0cfb-f971-41cd-831a-0a7b85f71111",
        "colab": {
          "base_uri": "https://localhost:8080/",
          "height": 283
        }
      },
      "source": [
        "import matplotlib.pyplot as plt\n",
        "\n",
        "plt.scatter(inputs, outputs, c='b')\n",
        "plt.scatter(inputs, model(inputs), c='r')\n",
        "plt.show()\n",
        "\n",
        "print('Current loss: %1.6f' % loss(model(inputs), outputs).numpy())"
      ],
      "execution_count": null,
      "outputs": [
        {
          "output_type": "display_data",
          "data": {
            "image/png": "[encoded data removed]",
            "text/plain": [
              "<Figure size 432x288 with 1 Axes>"
            ]
          },
          "metadata": {
            "tags": [],
            "needs_background": "light"
          }
        },
        {
          "output_type": "stream",
          "text": [
            "Current loss: 942.039246\n"
          ],
          "name": "stdout"
        }
      ]
    },
    {
      "cell_type": "markdown",
      "metadata": {
        "id": "16Ujj6vNYQyX",
        "toc-hr-collapsed": true
      },
      "source": [
        "### Update Weights Based on Gradient\n",
        "\n",
        "> *Assigning blame for bad predictions and delivering justice - repeatedly and a little bit at a time*\n",
        "\n",
        "You should also know that with neural networks it is common to have gradients that are not convex (like what we saw when we applied gradient descent to linear regression). \n",
        "\n",
        "Due to the high complexity of these models and their nonlinearity, it is common for gradient descent to get stuck in a local minimum, but there are ways to combat this:\n",
        "\n",
        "1) Stochastic Gradient Descent\n",
        "\n",
        "2) More advanced Gradient-Descent-based \"Optimizers\" - See Stretch Goals on assignment."
      ]
    },
    {
      "cell_type": "code",
      "metadata": {
        "id": "ZgaGD6YlHoid"
      },
      "source": [
        " def train(model, inputs, outputs, learning_rate):\n",
        "  with tf.GradientTape() as t: \n",
        "     current_loss = loss(outputs, model(inputs))\n",
        "  dW, db = t.gradient(current_loss, [model.W, model.b])\n",
        "  model.W.assign_sub(learning_rate * dW)\n",
        "  model.b.assign_sub(learning_rate * db)"
      ],
      "execution_count": null,
      "outputs": []
    },
    {
      "cell_type": "markdown",
      "metadata": {
        "id": "7iziWWURgck8"
      },
      "source": [
        "### Train the Network"
      ]
    },
    {
      "cell_type": "code",
      "metadata": {
        "id": "4zn_HgFuHhTr",
        "outputId": "3c6f9ca8-b96e-4987-ad58-bf239d678067",
        "colab": {
          "base_uri": "https://localhost:8080/"
        }
      },
      "source": [
        "model = Model()\n",
        "\n",
        "# Store Some history of weights\n",
        "Ws, bs = [], []\n",
        "epochs = range(25)\n",
        "for epoch in epochs:\n",
        "  Ws.append(model.W.numpy())\n",
        "  bs.append(model.b.numpy())\n",
        "  current_loss = loss(outputs, model(inputs))\n",
        "\n",
        "  train(model, inputs, outputs, learning_rate=0.1)\n",
        "  print('Epoch %2d: W=%1.2f b=%1.2f loss=%2.5f' % (epoch, Ws[-1], bs[-1], current_loss))"
      ],
      "execution_count": null,
      "outputs": [
        {
          "output_type": "stream",
          "text": [
            "Epoch  0: W=10.00 b=20.00 loss=942.03925\n",
            "Epoch  1: W=8.75 b=26.00 loss=604.17657\n",
            "Epoch  2: W=7.74 b=30.80 loss=387.62399\n",
            "Epoch  3: W=6.92 b=34.64 loss=248.82329\n",
            "Epoch  4: W=6.27 b=37.71 loss=159.85709\n",
            "Epoch  5: W=5.73 b=40.17 loss=102.83217\n",
            "Epoch  6: W=5.31 b=42.14 loss=66.28036\n",
            "Epoch  7: W=4.96 b=43.72 loss=42.85114\n",
            "Epoch  8: W=4.68 b=44.98 loss=27.83311\n",
            "Epoch  9: W=4.46 b=45.99 loss=18.20648\n",
            "Epoch 10: W=4.27 b=46.79 loss=12.03570\n",
            "Epoch 11: W=4.13 b=47.44 loss=8.08011\n",
            "Epoch 12: W=4.01 b=47.96 loss=5.54449\n",
            "Epoch 13: W=3.91 b=48.37 loss=3.91905\n",
            "Epoch 14: W=3.84 b=48.70 loss=2.87708\n",
            "Epoch 15: W=3.77 b=48.97 loss=2.20913\n",
            "Epoch 16: W=3.72 b=49.18 loss=1.78093\n",
            "Epoch 17: W=3.68 b=49.35 loss=1.50643\n",
            "Epoch 18: W=3.65 b=49.49 loss=1.33045\n",
            "Epoch 19: W=3.62 b=49.59 loss=1.21764\n",
            "Epoch 20: W=3.60 b=49.68 loss=1.14532\n",
            "Epoch 21: W=3.59 b=49.75 loss=1.09895\n",
            "Epoch 22: W=3.57 b=49.81 loss=1.06922\n",
            "Epoch 23: W=3.56 b=49.85 loss=1.05017\n",
            "Epoch 24: W=3.55 b=49.89 loss=1.03795\n"
          ],
          "name": "stdout"
        }
      ]
    },
    {
      "cell_type": "code",
      "metadata": {
        "id": "FSEt07wdHvi2",
        "outputId": "b8316dc5-a6f6-40fe-801e-d04cf280dbcb",
        "colab": {
          "base_uri": "https://localhost:8080/",
          "height": 265
        }
      },
      "source": [
        "import matplotlib.pyplot as plt\n",
        "\n",
        "plt.plot(epochs, Ws, 'r', epochs, bs, 'b')\n",
        "plt.plot([TRUE_W] * len(epochs), 'r--',\n",
        "         [TRUE_b] * len(epochs), 'b--')\n",
        "plt.legend(['W', 'b', 'True W', 'True b'])\n",
        "plt.show()"
      ],
      "execution_count": null,
      "outputs": [
        {
          "output_type": "display_data",
          "data": {
            "image/png": "[encoded data removed]",
            "text/plain": [
              "<Figure size 432x288 with 1 Axes>"
            ]
          },
          "metadata": {
            "tags": [],
            "needs_background": "light"
          }
        }
      ]
    },
    {
      "cell_type": "markdown",
      "metadata": {
        "id": "iKUVGoRxgck_"
      },
      "source": [
        "## Challenge\n",
        "\n",
        "In the module project, you will be asked to explain the logic of backpropagation and gradient descent."
      ]
    },
    {
      "cell_type": "markdown",
      "metadata": {
        "id": "TRsjONxQemmp"
      },
      "source": [
        "### In the following two sections we'll look at batch size and learning rate hyperparameters in isolation. \n",
        "However, it's important to know that recent research found some interesting relationships between batch sizes and learning rates. The best available suggestion today is to scale batch size proportionally to a learning rate:\n",
        "- https://openreview.net/pdf?id=B1Yy1BxCZ\n",
        "- https://papers.nips.cc/paper/8398-control-batch-size-and-learning-rate-to-generalize-well-theoretical-and-empirical-evidence.pdf"
      ]
    },
    {
      "cell_type": "markdown",
      "metadata": {
        "id": "vTqZg-6igclA",
        "toc-hr-collapsed": true
      },
      "source": [
        "# Batch Size (Learn)"
      ]
    },
    {
      "cell_type": "markdown",
      "metadata": {
        "id": "0nrm-racgclA"
      },
      "source": [
        "## Overview\n",
        "\n",
        "The What - Stochastic Gradient Descent calculates an approximation of the gradient over the entire dataset by reviewing the predictions of a random sample. \n",
        "\n",
        "The Why - *Speed*. Calculating the gradient over the entire dataset is extremely expensive computationally. \n",
        "\n",
        "### Batch Size\n",
        "Batches are the number of observations our model is shown to make predictions and update the weights. Batches are selected randomly during epoch. All observations are considered when passing thru an epoch at some point."
      ]
    },
    {
      "cell_type": "markdown",
      "metadata": {
        "id": "oNQ2ZCi7I4i6"
      },
      "source": [
        "### Baseline Model"
      ]
    },
    {
      "cell_type": "code",
      "metadata": {
        "id": "mZjW2lYVI9Q2",
        "outputId": "07a0eb0e-4922-47cf-98ec-c3a7fc0cbcea",
        "colab": {
          "base_uri": "https://localhost:8080/"
        }
      },
      "source": [
        "from tensorflow.keras.datasets import mnist\n",
        "\n",
        "(X_train, y_train), (X_test, y_test) = mnist.load_data()\n",
        "\n",
        "X_train = X_train / 255.\n",
        "X_test = X_test / 255.\n",
        "\n",
        "X_train = X_train.reshape((60000, 784))\n",
        "X_test = X_test.reshape((10000, 784))"
      ],
      "execution_count": null,
      "outputs": [
        {
          "output_type": "stream",
          "text": [
            "Downloading data from https://storage.googleapis.com/tensorflow/tf-keras-datasets/mnist.npz\n",
            "11493376/11490434 [==============================] - 0s 0us/step\n"
          ],
          "name": "stdout"
        }
      ]
    },
    {
      "cell_type": "code",
      "metadata": {
        "id": "o7x17kDKJSy5"
      },
      "source": [
        "from tensorflow.keras import Sequential\n",
        "from tensorflow.keras.layers import Dense\n",
        "from tensorflow.keras.optimizers import SGD\n",
        "\n",
        "def create_model(lr=0.01):\n",
        "  opt = SGD(learning_rate=lr)\n",
        "  model = Sequential([\n",
        "    Dense(32, activation='relu', input_dim=784),\n",
        "    Dense(32, activation='relu'),\n",
        "    Dense(10, activation='softmax')\n",
        "  ])\n",
        "  model.compile(optimizer=opt,\n",
        "                loss='sparse_categorical_crossentropy',\n",
        "                metrics=['accuracy'])\n",
        "  return model"
      ],
      "execution_count": null,
      "outputs": []
    },
    {
      "cell_type": "markdown",
      "metadata": {
        "id": "ZF7UE-KluPsX"
      },
      "source": [
        "## Follow Along\n",
        "Let's run a series of experiments for a default, small, and large batch size."
      ]
    },
    {
      "cell_type": "markdown",
      "metadata": {
        "id": "VhpDaVFRJl3U"
      },
      "source": [
        "### Default\n",
        "Batch Size is 32"
      ]
    },
    {
      "cell_type": "code",
      "metadata": {
        "id": "P-ChVGikgclD",
        "outputId": "efdcf0a9-d1fc-4c77-b025-a2f8e3da9569",
        "colab": {
          "base_uri": "https://localhost:8080/"
        }
      },
      "source": [
        "model = create_model()\n",
        "model.summary()"
      ],
      "execution_count": null,
      "outputs": [
        {
          "output_type": "stream",
          "text": [
            "Model: \"sequential\"\n",
            "_________________________________________________________________\n",
            "Layer (type)                 Output Shape              Param #   \n",
            "=================================================================\n",
            "dense (Dense)                (None, 32)                25120     \n",
            "_________________________________________________________________\n",
            "dense_1 (Dense)              (None, 32)                1056      \n",
            "_________________________________________________________________\n",
            "dense_2 (Dense)              (None, 10)                330       \n",
            "=================================================================\n",
            "Total params: 26,506\n",
            "Trainable params: 26,506\n",
            "Non-trainable params: 0\n",
            "_________________________________________________________________\n"
          ],
          "name": "stdout"
        }
      ]
    },
    {
      "cell_type": "code",
      "metadata": {
        "id": "S0P6CPYiz6eH",
        "outputId": "fd263b31-8757-4645-d87c-8adc0a165dda",
        "colab": {
          "base_uri": "https://localhost:8080/"
        }
      },
      "source": [
        "(784 + 1) * 32"
      ],
      "execution_count": null,
      "outputs": [
        {
          "output_type": "execute_result",
          "data": {
            "text/plain": [
              "25120"
            ]
          },
          "metadata": {
            "tags": []
          },
          "execution_count": 23
        }
      ]
    },
    {
      "cell_type": "code",
      "metadata": {
        "id": "UwhohGsh0H4K",
        "outputId": "610a18ec-81bb-4e78-e676-9535846bd901",
        "colab": {
          "base_uri": "https://localhost:8080/"
        }
      },
      "source": [
        "(32 + 1) * 32"
      ],
      "execution_count": null,
      "outputs": [
        {
          "output_type": "execute_result",
          "data": {
            "text/plain": [
              "1056"
            ]
          },
          "metadata": {
            "tags": []
          },
          "execution_count": 24
        }
      ]
    },
    {
      "cell_type": "code",
      "metadata": {
        "id": "tU1Epv6f1f_o",
        "outputId": "5815907f-aa65-42df-f491-06a11b1b89ec",
        "colab": {
          "base_uri": "https://localhost:8080/"
        }
      },
      "source": [
        "bt_default = model.fit(\n",
        "  X_train, y_train,\n",
        "  epochs=25,\n",
        "  batch_size=32,\n",
        "  validation_data=(X_test, y_test)\n",
        ")"
      ],
      "execution_count": null,
      "outputs": [
        {
          "output_type": "stream",
          "text": [
            "Epoch 1/25\n",
            "1875/1875 [==============================] - 5s 3ms/step - loss: 0.7447 - accuracy: 0.7938 - val_loss: 0.3654 - val_accuracy: 0.8957\n",
            "Epoch 2/25\n",
            "1875/1875 [==============================] - 5s 3ms/step - loss: 0.3312 - accuracy: 0.9047 - val_loss: 0.2885 - val_accuracy: 0.9191\n",
            "Epoch 3/25\n",
            "1875/1875 [==============================] - 5s 3ms/step - loss: 0.2780 - accuracy: 0.9192 - val_loss: 0.2520 - val_accuracy: 0.9292\n",
            "Epoch 4/25\n",
            "1875/1875 [==============================] - 5s 3ms/step - loss: 0.2477 - accuracy: 0.9281 - val_loss: 0.2329 - val_accuracy: 0.9344\n",
            "Epoch 5/25\n",
            "1875/1875 [==============================] - 5s 3ms/step - loss: 0.2239 - accuracy: 0.9349 - val_loss: 0.2111 - val_accuracy: 0.9406\n",
            "Epoch 6/25\n",
            "1875/1875 [==============================] - 5s 3ms/step - loss: 0.2048 - accuracy: 0.9405 - val_loss: 0.1937 - val_accuracy: 0.9435\n",
            "Epoch 7/25\n",
            "1875/1875 [==============================] - 5s 3ms/step - loss: 0.1890 - accuracy: 0.9456 - val_loss: 0.1846 - val_accuracy: 0.9450\n",
            "Epoch 8/25\n",
            "1875/1875 [==============================] - 5s 3ms/step - loss: 0.1758 - accuracy: 0.9482 - val_loss: 0.1747 - val_accuracy: 0.9492\n",
            "Epoch 9/25\n",
            "1875/1875 [==============================] - 5s 3ms/step - loss: 0.1641 - accuracy: 0.9520 - val_loss: 0.1629 - val_accuracy: 0.9525\n",
            "Epoch 10/25\n",
            "1875/1875 [==============================] - 5s 3ms/step - loss: 0.1544 - accuracy: 0.9543 - val_loss: 0.1559 - val_accuracy: 0.9511\n",
            "Epoch 11/25\n",
            "1875/1875 [==============================] - 5s 3ms/step - loss: 0.1459 - accuracy: 0.9568 - val_loss: 0.1485 - val_accuracy: 0.9559\n",
            "Epoch 12/25\n",
            "1875/1875 [==============================] - 5s 3ms/step - loss: 0.1383 - accuracy: 0.9596 - val_loss: 0.1495 - val_accuracy: 0.9542\n",
            "Epoch 13/25\n",
            "1875/1875 [==============================] - 5s 3ms/step - loss: 0.1316 - accuracy: 0.9610 - val_loss: 0.1390 - val_accuracy: 0.9581\n",
            "Epoch 14/25\n",
            "1875/1875 [==============================] - 5s 3ms/step - loss: 0.1258 - accuracy: 0.9629 - val_loss: 0.1376 - val_accuracy: 0.9592\n",
            "Epoch 15/25\n",
            "1875/1875 [==============================] - 5s 3ms/step - loss: 0.1204 - accuracy: 0.9643 - val_loss: 0.1345 - val_accuracy: 0.9593\n",
            "Epoch 16/25\n",
            "1875/1875 [==============================] - 5s 3ms/step - loss: 0.1161 - accuracy: 0.9655 - val_loss: 0.1307 - val_accuracy: 0.9610\n",
            "Epoch 17/25\n",
            "1875/1875 [==============================] - 6s 3ms/step - loss: 0.1114 - accuracy: 0.9675 - val_loss: 0.1272 - val_accuracy: 0.9620\n",
            "Epoch 18/25\n",
            "1875/1875 [==============================] - 6s 3ms/step - loss: 0.1074 - accuracy: 0.9681 - val_loss: 0.1236 - val_accuracy: 0.9624\n",
            "Epoch 19/25\n",
            "1875/1875 [==============================] - 5s 3ms/step - loss: 0.1035 - accuracy: 0.9694 - val_loss: 0.1230 - val_accuracy: 0.9622\n",
            "Epoch 20/25\n",
            "1875/1875 [==============================] - 5s 3ms/step - loss: 0.1001 - accuracy: 0.9703 - val_loss: 0.1273 - val_accuracy: 0.9615\n",
            "Epoch 21/25\n",
            "1875/1875 [==============================] - 5s 3ms/step - loss: 0.0968 - accuracy: 0.9712 - val_loss: 0.1202 - val_accuracy: 0.9645\n",
            "Epoch 22/25\n",
            "1875/1875 [==============================] - 5s 3ms/step - loss: 0.0934 - accuracy: 0.9721 - val_loss: 0.1172 - val_accuracy: 0.9633\n",
            "Epoch 23/25\n",
            "1875/1875 [==============================] - 5s 3ms/step - loss: 0.0911 - accuracy: 0.9729 - val_loss: 0.1167 - val_accuracy: 0.9645\n",
            "Epoch 24/25\n",
            "1875/1875 [==============================] - 5s 3ms/step - loss: 0.0881 - accuracy: 0.9742 - val_loss: 0.1150 - val_accuracy: 0.9645\n",
            "Epoch 25/25\n",
            "1875/1875 [==============================] - 5s 3ms/step - loss: 0.0858 - accuracy: 0.9744 - val_loss: 0.1163 - val_accuracy: 0.9649\n"
          ],
          "name": "stdout"
        }
      ]
    },
    {
      "cell_type": "code",
      "metadata": {
        "id": "5fc0N9qF1xXe",
        "outputId": "6f3b64e6-43b3-4301-f609-6ac36b75ae5a",
        "colab": {
          "base_uri": "https://localhost:8080/"
        }
      },
      "source": [
        "1875*32"
      ],
      "execution_count": null,
      "outputs": [
        {
          "output_type": "execute_result",
          "data": {
            "text/plain": [
              "60000"
            ]
          },
          "metadata": {
            "tags": []
          },
          "execution_count": 26
        }
      ]
    },
    {
      "cell_type": "markdown",
      "metadata": {
        "id": "KvsbOFnDJuG0"
      },
      "source": [
        "### Small Batch Size\n",
        "Batch Size is 8"
      ]
    },
    {
      "cell_type": "code",
      "metadata": {
        "id": "diDzvb-UJ1je",
        "outputId": "bac54666-ed05-4479-8746-ee3003d8e872",
        "colab": {
          "base_uri": "https://localhost:8080/"
        }
      },
      "source": [
        "model = create_model()\n",
        "\n",
        "bt_small = model.fit(\n",
        "  X_train, y_train,\n",
        "  epochs=25,\n",
        "  batch_size=8,\n",
        "  validation_data=(X_test, y_test)\n",
        ")"
      ],
      "execution_count": null,
      "outputs": [
        {
          "output_type": "stream",
          "text": [
            "Epoch 1/25\n",
            "7500/7500 [==============================] - 20s 3ms/step - loss: 0.4302 - accuracy: 0.8738 - val_loss: 0.2486 - val_accuracy: 0.9239\n",
            "Epoch 2/25\n",
            "7500/7500 [==============================] - 20s 3ms/step - loss: 0.2152 - accuracy: 0.9372 - val_loss: 0.1759 - val_accuracy: 0.9473\n",
            "Epoch 3/25\n",
            "7500/7500 [==============================] - 20s 3ms/step - loss: 0.1680 - accuracy: 0.9502 - val_loss: 0.1499 - val_accuracy: 0.9548\n",
            "Epoch 4/25\n",
            "7500/7500 [==============================] - 20s 3ms/step - loss: 0.1419 - accuracy: 0.9577 - val_loss: 0.1483 - val_accuracy: 0.9553\n",
            "Epoch 5/25\n",
            "7500/7500 [==============================] - 20s 3ms/step - loss: 0.1250 - accuracy: 0.9629 - val_loss: 0.1311 - val_accuracy: 0.9615\n",
            "Epoch 6/25\n",
            "7500/7500 [==============================] - 20s 3ms/step - loss: 0.1145 - accuracy: 0.9657 - val_loss: 0.1178 - val_accuracy: 0.9660\n",
            "Epoch 7/25\n",
            "7500/7500 [==============================] - 20s 3ms/step - loss: 0.1044 - accuracy: 0.9683 - val_loss: 0.1164 - val_accuracy: 0.9661\n",
            "Epoch 8/25\n",
            "7500/7500 [==============================] - 20s 3ms/step - loss: 0.0966 - accuracy: 0.9706 - val_loss: 0.1299 - val_accuracy: 0.9614\n",
            "Epoch 9/25\n",
            "7500/7500 [==============================] - 22s 3ms/step - loss: 0.0890 - accuracy: 0.9736 - val_loss: 0.1089 - val_accuracy: 0.9682\n",
            "Epoch 10/25\n",
            "7500/7500 [==============================] - 20s 3ms/step - loss: 0.0838 - accuracy: 0.9744 - val_loss: 0.1111 - val_accuracy: 0.9677\n",
            "Epoch 11/25\n",
            "7500/7500 [==============================] - 20s 3ms/step - loss: 0.0775 - accuracy: 0.9765 - val_loss: 0.1153 - val_accuracy: 0.9658\n",
            "Epoch 12/25\n",
            "7500/7500 [==============================] - 20s 3ms/step - loss: 0.0736 - accuracy: 0.9777 - val_loss: 0.1097 - val_accuracy: 0.9678\n",
            "Epoch 13/25\n",
            "7500/7500 [==============================] - 20s 3ms/step - loss: 0.0694 - accuracy: 0.9786 - val_loss: 0.1222 - val_accuracy: 0.9657\n",
            "Epoch 14/25\n",
            "7500/7500 [==============================] - 20s 3ms/step - loss: 0.0647 - accuracy: 0.9803 - val_loss: 0.1071 - val_accuracy: 0.9698\n",
            "Epoch 15/25\n",
            "7500/7500 [==============================] - 20s 3ms/step - loss: 0.0616 - accuracy: 0.9811 - val_loss: 0.1103 - val_accuracy: 0.9680\n",
            "Epoch 16/25\n",
            "7500/7500 [==============================] - 20s 3ms/step - loss: 0.0592 - accuracy: 0.9823 - val_loss: 0.1072 - val_accuracy: 0.9688\n",
            "Epoch 17/25\n",
            "7500/7500 [==============================] - 20s 3ms/step - loss: 0.0557 - accuracy: 0.9829 - val_loss: 0.1124 - val_accuracy: 0.9701\n",
            "Epoch 18/25\n",
            "7500/7500 [==============================] - 21s 3ms/step - loss: 0.0537 - accuracy: 0.9827 - val_loss: 0.1116 - val_accuracy: 0.9681\n",
            "Epoch 19/25\n",
            "7500/7500 [==============================] - 20s 3ms/step - loss: 0.0505 - accuracy: 0.9841 - val_loss: 0.1058 - val_accuracy: 0.9703\n",
            "Epoch 20/25\n",
            "7500/7500 [==============================] - 20s 3ms/step - loss: 0.0473 - accuracy: 0.9854 - val_loss: 0.1260 - val_accuracy: 0.9661\n",
            "Epoch 21/25\n",
            "7500/7500 [==============================] - 20s 3ms/step - loss: 0.0464 - accuracy: 0.9856 - val_loss: 0.1098 - val_accuracy: 0.9699\n",
            "Epoch 22/25\n",
            "7500/7500 [==============================] - 20s 3ms/step - loss: 0.0432 - accuracy: 0.9865 - val_loss: 0.1099 - val_accuracy: 0.9718\n",
            "Epoch 23/25\n",
            "7500/7500 [==============================] - 20s 3ms/step - loss: 0.0428 - accuracy: 0.9865 - val_loss: 0.1155 - val_accuracy: 0.9681\n",
            "Epoch 24/25\n",
            "7500/7500 [==============================] - 22s 3ms/step - loss: 0.0401 - accuracy: 0.9874 - val_loss: 0.1175 - val_accuracy: 0.9707\n",
            "Epoch 25/25\n",
            "7500/7500 [==============================] - 20s 3ms/step - loss: 0.0392 - accuracy: 0.9877 - val_loss: 0.1127 - val_accuracy: 0.9709\n"
          ],
          "name": "stdout"
        }
      ]
    },
    {
      "cell_type": "markdown",
      "metadata": {
        "id": "_iPvvvt5J2Xl"
      },
      "source": [
        "### Large Batch Size\n",
        "Batch Size is 512"
      ]
    },
    {
      "cell_type": "code",
      "metadata": {
        "id": "7h8Z5293KABT",
        "outputId": "9bd8226c-a835-435d-8444-65e74624c383",
        "colab": {
          "base_uri": "https://localhost:8080/"
        }
      },
      "source": [
        "model = create_model()\n",
        "\n",
        "bt_big = model.fit(\n",
        "  X_train, y_train,\n",
        "  epochs=25,\n",
        "  batch_size=512,\n",
        "  validation_data=(X_test, y_test)\n",
        ")"
      ],
      "execution_count": null,
      "outputs": [
        {
          "output_type": "stream",
          "text": [
            "Epoch 1/25\n",
            "118/118 [==============================] - 1s 6ms/step - loss: 2.1805 - accuracy: 0.2149 - val_loss: 1.9751 - val_accuracy: 0.4121\n",
            "Epoch 2/25\n",
            "118/118 [==============================] - 0s 4ms/step - loss: 1.7126 - accuracy: 0.5881 - val_loss: 1.4094 - val_accuracy: 0.6916\n",
            "Epoch 3/25\n",
            "118/118 [==============================] - 1s 4ms/step - loss: 1.1848 - accuracy: 0.7413 - val_loss: 0.9726 - val_accuracy: 0.7828\n",
            "Epoch 4/25\n",
            "118/118 [==============================] - 0s 4ms/step - loss: 0.8627 - accuracy: 0.8023 - val_loss: 0.7438 - val_accuracy: 0.8273\n",
            "Epoch 5/25\n",
            "118/118 [==============================] - 0s 4ms/step - loss: 0.6926 - accuracy: 0.8311 - val_loss: 0.6178 - val_accuracy: 0.8463\n",
            "Epoch 6/25\n",
            "118/118 [==============================] - 1s 4ms/step - loss: 0.5942 - accuracy: 0.8484 - val_loss: 0.5426 - val_accuracy: 0.8578\n",
            "Epoch 7/25\n",
            "118/118 [==============================] - 1s 4ms/step - loss: 0.5314 - accuracy: 0.8606 - val_loss: 0.4894 - val_accuracy: 0.8684\n",
            "Epoch 8/25\n",
            "118/118 [==============================] - 0s 4ms/step - loss: 0.4880 - accuracy: 0.8689 - val_loss: 0.4535 - val_accuracy: 0.8754\n",
            "Epoch 9/25\n",
            "118/118 [==============================] - 0s 4ms/step - loss: 0.4565 - accuracy: 0.8758 - val_loss: 0.4268 - val_accuracy: 0.8809\n",
            "Epoch 10/25\n",
            "118/118 [==============================] - 0s 4ms/step - loss: 0.4327 - accuracy: 0.8810 - val_loss: 0.4056 - val_accuracy: 0.8854\n",
            "Epoch 11/25\n",
            "118/118 [==============================] - 1s 4ms/step - loss: 0.4136 - accuracy: 0.8851 - val_loss: 0.3888 - val_accuracy: 0.8884\n",
            "Epoch 12/25\n",
            "118/118 [==============================] - 1s 4ms/step - loss: 0.3984 - accuracy: 0.8887 - val_loss: 0.3756 - val_accuracy: 0.8924\n",
            "Epoch 13/25\n",
            "118/118 [==============================] - 0s 4ms/step - loss: 0.3858 - accuracy: 0.8916 - val_loss: 0.3653 - val_accuracy: 0.8958\n",
            "Epoch 14/25\n",
            "118/118 [==============================] - 1s 4ms/step - loss: 0.3751 - accuracy: 0.8943 - val_loss: 0.3551 - val_accuracy: 0.8982\n",
            "Epoch 15/25\n",
            "118/118 [==============================] - 0s 4ms/step - loss: 0.3658 - accuracy: 0.8967 - val_loss: 0.3468 - val_accuracy: 0.9011\n",
            "Epoch 16/25\n",
            "118/118 [==============================] - 0s 4ms/step - loss: 0.3578 - accuracy: 0.8987 - val_loss: 0.3391 - val_accuracy: 0.9038\n",
            "Epoch 17/25\n",
            "118/118 [==============================] - 0s 4ms/step - loss: 0.3506 - accuracy: 0.9007 - val_loss: 0.3328 - val_accuracy: 0.9044\n",
            "Epoch 18/25\n",
            "118/118 [==============================] - 1s 4ms/step - loss: 0.3442 - accuracy: 0.9024 - val_loss: 0.3274 - val_accuracy: 0.9066\n",
            "Epoch 19/25\n",
            "118/118 [==============================] - 1s 4ms/step - loss: 0.3383 - accuracy: 0.9039 - val_loss: 0.3221 - val_accuracy: 0.9093\n",
            "Epoch 20/25\n",
            "118/118 [==============================] - 1s 4ms/step - loss: 0.3330 - accuracy: 0.9053 - val_loss: 0.3167 - val_accuracy: 0.9104\n",
            "Epoch 21/25\n",
            "118/118 [==============================] - 1s 4ms/step - loss: 0.3280 - accuracy: 0.9066 - val_loss: 0.3127 - val_accuracy: 0.9112\n",
            "Epoch 22/25\n",
            "118/118 [==============================] - 1s 5ms/step - loss: 0.3234 - accuracy: 0.9078 - val_loss: 0.3086 - val_accuracy: 0.9127\n",
            "Epoch 23/25\n",
            "118/118 [==============================] - 1s 4ms/step - loss: 0.3191 - accuracy: 0.9092 - val_loss: 0.3044 - val_accuracy: 0.9134\n",
            "Epoch 24/25\n",
            "118/118 [==============================] - 1s 5ms/step - loss: 0.3150 - accuracy: 0.9101 - val_loss: 0.3013 - val_accuracy: 0.9147\n",
            "Epoch 25/25\n",
            "118/118 [==============================] - 1s 5ms/step - loss: 0.3112 - accuracy: 0.9111 - val_loss: 0.2977 - val_accuracy: 0.9155\n"
          ],
          "name": "stdout"
        }
      ]
    },
    {
      "cell_type": "code",
      "metadata": {
        "id": "3SEqu04m6DRh",
        "outputId": "d97ff849-2fc3-4d00-b17e-f435532322f9",
        "colab": {
          "base_uri": "https://localhost:8080/"
        }
      },
      "source": [
        "bt_big.history"
      ],
      "execution_count": null,
      "outputs": [
        {
          "output_type": "execute_result",
          "data": {
            "text/plain": [
              "{'accuracy': [0.2149166613817215,\n",
              "  0.5880500078201294,\n",
              "  0.741266667842865,\n",
              "  0.8023499846458435,\n",
              "  0.831083357334137,\n",
              "  0.8483666777610779,\n",
              "  0.8606166839599609,\n",
              "  0.8689166903495789,\n",
              "  0.8757500052452087,\n",
              "  0.8810166716575623,\n",
              "  0.8850666880607605,\n",
              "  0.888700008392334,\n",
              "  0.8915833234786987,\n",
              "  0.8943333625793457,\n",
              "  0.8967000246047974,\n",
              "  0.8986999988555908,\n",
              "  0.9006833434104919,\n",
              "  0.9023666381835938,\n",
              "  0.9039000272750854,\n",
              "  0.9053166508674622,\n",
              "  0.906583309173584,\n",
              "  0.9078333377838135,\n",
              "  0.9091500043869019,\n",
              "  0.9101499915122986,\n",
              "  0.9110666513442993],\n",
              " 'loss': [2.1805357933044434,\n",
              "  1.712646484375,\n",
              "  1.184794306755066,\n",
              "  0.8627088069915771,\n",
              "  0.6926453113555908,\n",
              "  0.5941837430000305,\n",
              "  0.5314193964004517,\n",
              "  0.4880029857158661,\n",
              "  0.45650118589401245,\n",
              "  0.4326690435409546,\n",
              "  0.4136488139629364,\n",
              "  0.39841803908348083,\n",
              "  0.3858218193054199,\n",
              "  0.3751322627067566,\n",
              "  0.365762323141098,\n",
              "  0.35783085227012634,\n",
              "  0.3506366014480591,\n",
              "  0.3442334830760956,\n",
              "  0.3383035659790039,\n",
              "  0.33299821615219116,\n",
              "  0.3279604911804199,\n",
              "  0.3234230875968933,\n",
              "  0.3190765380859375,\n",
              "  0.31501489877700806,\n",
              "  0.31118276715278625],\n",
              " 'val_accuracy': [0.4120999872684479,\n",
              "  0.6916000247001648,\n",
              "  0.782800018787384,\n",
              "  0.8273000121116638,\n",
              "  0.8463000059127808,\n",
              "  0.8578000068664551,\n",
              "  0.868399977684021,\n",
              "  0.8754000067710876,\n",
              "  0.8809000253677368,\n",
              "  0.8853999972343445,\n",
              "  0.8884000182151794,\n",
              "  0.8924000263214111,\n",
              "  0.895799994468689,\n",
              "  0.8981999754905701,\n",
              "  0.9010999798774719,\n",
              "  0.9038000106811523,\n",
              "  0.9043999910354614,\n",
              "  0.9065999984741211,\n",
              "  0.9093000292778015,\n",
              "  0.9103999733924866,\n",
              "  0.9111999869346619,\n",
              "  0.9126999974250793,\n",
              "  0.9133999943733215,\n",
              "  0.9146999716758728,\n",
              "  0.9154999852180481],\n",
              " 'val_loss': [1.9750930070877075,\n",
              "  1.4093834161758423,\n",
              "  0.9726346731185913,\n",
              "  0.7438145279884338,\n",
              "  0.6177933812141418,\n",
              "  0.5426101684570312,\n",
              "  0.48944711685180664,\n",
              "  0.4535316526889801,\n",
              "  0.42683589458465576,\n",
              "  0.4055868089199066,\n",
              "  0.388805091381073,\n",
              "  0.3755718469619751,\n",
              "  0.3652859628200531,\n",
              "  0.35514235496520996,\n",
              "  0.34680357575416565,\n",
              "  0.33908411860466003,\n",
              "  0.3328334093093872,\n",
              "  0.32735639810562134,\n",
              "  0.32212042808532715,\n",
              "  0.3166738450527191,\n",
              "  0.312724232673645,\n",
              "  0.3085709810256958,\n",
              "  0.3043767213821411,\n",
              "  0.3012797236442566,\n",
              "  0.2976911664009094]}"
            ]
          },
          "metadata": {
            "tags": []
          },
          "execution_count": 31
        }
      ]
    },
    {
      "cell_type": "markdown",
      "metadata": {
        "id": "B0ujUz6BKUGz"
      },
      "source": [
        "### Visualization of Results"
      ]
    },
    {
      "cell_type": "code",
      "metadata": {
        "id": "o-5DOZNMKYt-",
        "outputId": "a519f7fb-0fda-4e8a-8346-e2ebd4b5ec37",
        "colab": {
          "base_uri": "https://localhost:8080/",
          "height": 203
        }
      },
      "source": [
        "import seaborn as sns\n",
        "import pandas as pd\n",
        "\n",
        "batch_sizes = []\n",
        "\n",
        "for exp, result in zip([bt_default, bt_small, bt_big], [\"32_\", \"8_\", \"512_\"]):\n",
        "    df = pd.DataFrame.from_dict(exp.history)\n",
        "    df['epoch'] = df.index.values\n",
        "    df['Batch Size'] = result\n",
        "    batch_sizes.append(df)\n",
        "\n",
        "df = pd.concat(batch_sizes)\n",
        "df['Batch Size'] = df['Batch Size'].astype('str')\n",
        "df.head()"
      ],
      "execution_count": null,
      "outputs": [
        {
          "output_type": "execute_result",
          "data": {
            "text/html": [
              "<div>\n",
              "<style scoped>\n",
              "    .dataframe tbody tr th:only-of-type {\n",
              "        vertical-align: middle;\n",
              "    }\n",
              "\n",
              "    .dataframe tbody tr th {\n",
              "        vertical-align: top;\n",
              "    }\n",
              "\n",
              "    .dataframe thead th {\n",
              "        text-align: right;\n",
              "    }\n",
              "</style>\n",
              "<table border=\"1\" class=\"dataframe\">\n",
              "  <thead>\n",
              "    <tr style=\"text-align: right;\">\n",
              "      <th></th>\n",
              "      <th>loss</th>\n",
              "      <th>accuracy</th>\n",
              "      <th>val_loss</th>\n",
              "      <th>val_accuracy</th>\n",
              "      <th>epoch</th>\n",
              "      <th>Batch Size</th>\n",
              "    </tr>\n",
              "  </thead>\n",
              "  <tbody>\n",
              "    <tr>\n",
              "      <th>0</th>\n",
              "      <td>0.744670</td>\n",
              "      <td>0.793800</td>\n",
              "      <td>0.365359</td>\n",
              "      <td>0.8957</td>\n",
              "      <td>0</td>\n",
              "      <td>32_</td>\n",
              "    </tr>\n",
              "    <tr>\n",
              "      <th>1</th>\n",
              "      <td>0.331163</td>\n",
              "      <td>0.904700</td>\n",
              "      <td>0.288484</td>\n",
              "      <td>0.9191</td>\n",
              "      <td>1</td>\n",
              "      <td>32_</td>\n",
              "    </tr>\n",
              "    <tr>\n",
              "      <th>2</th>\n",
              "      <td>0.278024</td>\n",
              "      <td>0.919167</td>\n",
              "      <td>0.252035</td>\n",
              "      <td>0.9292</td>\n",
              "      <td>2</td>\n",
              "      <td>32_</td>\n",
              "    </tr>\n",
              "    <tr>\n",
              "      <th>3</th>\n",
              "      <td>0.247724</td>\n",
              "      <td>0.928067</td>\n",
              "      <td>0.232938</td>\n",
              "      <td>0.9344</td>\n",
              "      <td>3</td>\n",
              "      <td>32_</td>\n",
              "    </tr>\n",
              "    <tr>\n",
              "      <th>4</th>\n",
              "      <td>0.223893</td>\n",
              "      <td>0.934917</td>\n",
              "      <td>0.211148</td>\n",
              "      <td>0.9406</td>\n",
              "      <td>4</td>\n",
              "      <td>32_</td>\n",
              "    </tr>\n",
              "  </tbody>\n",
              "</table>\n",
              "</div>"
            ],
            "text/plain": [
              "       loss  accuracy  val_loss  val_accuracy  epoch Batch Size\n",
              "0  0.744670  0.793800  0.365359        0.8957      0        32_\n",
              "1  0.331163  0.904700  0.288484        0.9191      1        32_\n",
              "2  0.278024  0.919167  0.252035        0.9292      2        32_\n",
              "3  0.247724  0.928067  0.232938        0.9344      3        32_\n",
              "4  0.223893  0.934917  0.211148        0.9406      4        32_"
            ]
          },
          "metadata": {
            "tags": []
          },
          "execution_count": 32
        }
      ]
    },
    {
      "cell_type": "code",
      "metadata": {
        "id": "R3ecm1Cc6Olt",
        "outputId": "8fcb6489-3fbe-47ec-fe92-94cfd53ba218",
        "colab": {
          "base_uri": "https://localhost:8080/",
          "height": 279
        }
      },
      "source": [
        "sns.lineplot(x='epoch', y='val_accuracy', hue='Batch Size', data=df);"
      ],
      "execution_count": null,
      "outputs": [
        {
          "output_type": "display_data",
          "data": {
            "image/png": "[encoded data removed]",
            "text/plain": [
              "<Figure size 432x288 with 1 Axes>"
            ]
          },
          "metadata": {
            "tags": [],
            "needs_background": "light"
          }
        }
      ]
    },
    {
      "cell_type": "markdown",
      "metadata": {
        "id": "4kZ2vUYYgclS"
      },
      "source": [
        "## Challenge\n",
        "\n",
        "You will be expected to experiment with batch size on today's assignment."
      ]
    },
    {
      "cell_type": "markdown",
      "metadata": {
        "id": "46cP9Pm_gclS"
      },
      "source": [
        "# Learning Rate (Learn)"
      ]
    },
    {
      "cell_type": "markdown",
      "metadata": {
        "id": "Bna67ADZgclT",
        "toc-hr-collapsed": true
      },
      "source": [
        "## Overview\n",
        "\n",
        "Learning Rate controls the size of the update to our weights that the optimization algorithm makes. VERY IMPORTANT hyperparameter.\n",
        "\n",
        "* Too high of a learning rate causes unstable results\n",
        "* Too Low of a learning rate the model will underfit\n",
        "* Goldy Locks parameters - it needs be \"just right\"\n",
        "* Scale of 0-1"
      ]
    },
    {
      "cell_type": "markdown",
      "metadata": {
        "id": "gsVYOn7bgcle",
        "toc-hr-collapsed": true
      },
      "source": [
        "## Follow Along\n",
        "\n",
        "Same experiment with Batch but different learning rates:\n",
        "* High Learning = .75\n",
        "* Default Learning = .01\n",
        "* Low Learning Rate = .0001"
      ]
    },
    {
      "cell_type": "markdown",
      "metadata": {
        "id": "CI_H8Em1NOii"
      },
      "source": [
        "### Default Learning Rate"
      ]
    },
    {
      "cell_type": "code",
      "metadata": {
        "id": "Se8cb_ZUNVtL",
        "outputId": "af597c32-c2f5-4aeb-8eb8-c7c8e7f33386",
        "colab": {
          "base_uri": "https://localhost:8080/"
        }
      },
      "source": [
        "bt_default.history"
      ],
      "execution_count": null,
      "outputs": [
        {
          "output_type": "execute_result",
          "data": {
            "text/plain": [
              "{'accuracy': [0.7937999963760376,\n",
              "  0.904699981212616,\n",
              "  0.9191666841506958,\n",
              "  0.9280666708946228,\n",
              "  0.9349166750907898,\n",
              "  0.9405166506767273,\n",
              "  0.9455833435058594,\n",
              "  0.9482499957084656,\n",
              "  0.9519833326339722,\n",
              "  0.9542666673660278,\n",
              "  0.956849992275238,\n",
              "  0.9596499800682068,\n",
              "  0.9609666466712952,\n",
              "  0.9628833532333374,\n",
              "  0.9642666578292847,\n",
              "  0.965499997138977,\n",
              "  0.9674833416938782,\n",
              "  0.9681000113487244,\n",
              "  0.9693833589553833,\n",
              "  0.9703166484832764,\n",
              "  0.9711999893188477,\n",
              "  0.972100019454956,\n",
              "  0.9729166626930237,\n",
              "  0.9741833209991455,\n",
              "  0.9743666648864746],\n",
              " 'loss': [0.7446703910827637,\n",
              "  0.331163227558136,\n",
              "  0.2780238389968872,\n",
              "  0.24772444367408752,\n",
              "  0.2238931506872177,\n",
              "  0.20475436747074127,\n",
              "  0.18895915150642395,\n",
              "  0.17577916383743286,\n",
              "  0.16412533819675446,\n",
              "  0.15443816781044006,\n",
              "  0.1458735167980194,\n",
              "  0.13827677071094513,\n",
              "  0.1315547078847885,\n",
              "  0.12580575048923492,\n",
              "  0.1204494759440422,\n",
              "  0.1161239966750145,\n",
              "  0.11139777302742004,\n",
              "  0.10738791525363922,\n",
              "  0.1035415306687355,\n",
              "  0.10010477155447006,\n",
              "  0.09677629172801971,\n",
              "  0.09343606978654861,\n",
              "  0.09109567850828171,\n",
              "  0.08809161186218262,\n",
              "  0.08576428145170212],\n",
              " 'val_accuracy': [0.8956999778747559,\n",
              "  0.9190999865531921,\n",
              "  0.9291999936103821,\n",
              "  0.9344000220298767,\n",
              "  0.9405999779701233,\n",
              "  0.9434999823570251,\n",
              "  0.9449999928474426,\n",
              "  0.9491999745368958,\n",
              "  0.9524999856948853,\n",
              "  0.9510999917984009,\n",
              "  0.9559000134468079,\n",
              "  0.954200029373169,\n",
              "  0.9581000208854675,\n",
              "  0.9592000246047974,\n",
              "  0.9592999815940857,\n",
              "  0.9610000252723694,\n",
              "  0.9620000123977661,\n",
              "  0.9624000191688538,\n",
              "  0.9621999859809875,\n",
              "  0.9614999890327454,\n",
              "  0.9645000100135803,\n",
              "  0.9632999897003174,\n",
              "  0.9645000100135803,\n",
              "  0.9645000100135803,\n",
              "  0.964900016784668],\n",
              " 'val_loss': [0.3653590679168701,\n",
              "  0.28848397731781006,\n",
              "  0.2520352005958557,\n",
              "  0.23293821513652802,\n",
              "  0.2111477553844452,\n",
              "  0.19368915259838104,\n",
              "  0.1846100240945816,\n",
              "  0.17474696040153503,\n",
              "  0.16291698813438416,\n",
              "  0.15593469142913818,\n",
              "  0.1484941840171814,\n",
              "  0.1495240181684494,\n",
              "  0.1390480399131775,\n",
              "  0.13763724267482758,\n",
              "  0.13450762629508972,\n",
              "  0.13065358996391296,\n",
              "  0.12716931104660034,\n",
              "  0.12359921634197235,\n",
              "  0.12298882752656937,\n",
              "  0.12730607390403748,\n",
              "  0.12019481509923935,\n",
              "  0.117214635014534,\n",
              "  0.11667526513338089,\n",
              "  0.11500465124845505,\n",
              "  0.11626043915748596]}"
            ]
          },
          "metadata": {
            "tags": []
          },
          "execution_count": 37
        }
      ]
    },
    {
      "cell_type": "markdown",
      "metadata": {
        "id": "IQZ4SZdKNMRO"
      },
      "source": [
        "### High Learning Rate"
      ]
    },
    {
      "cell_type": "code",
      "metadata": {
        "id": "Ny72mU_dNWMR",
        "outputId": "72ba4b21-59a7-4c34-856e-dc38816c016d",
        "colab": {
          "base_uri": "https://localhost:8080/"
        }
      },
      "source": [
        "model = create_model(lr=0.75)\n",
        "\n",
        "lr_high = model.fit(\n",
        "  X_train, y_train,\n",
        "  epochs=25,\n",
        "  batch_size=32,\n",
        "  validation_data=(X_test, y_test)\n",
        ")"
      ],
      "execution_count": null,
      "outputs": [
        {
          "output_type": "stream",
          "text": [
            "Epoch 1/25\n",
            "1875/1875 [==============================] - 5s 3ms/step - loss: 0.8175 - accuracy: 0.7239 - val_loss: 0.4750 - val_accuracy: 0.8730\n",
            "Epoch 2/25\n",
            "1875/1875 [==============================] - 5s 3ms/step - loss: 0.4965 - accuracy: 0.8549 - val_loss: 0.4026 - val_accuracy: 0.8979\n",
            "Epoch 3/25\n",
            "1875/1875 [==============================] - 5s 3ms/step - loss: 0.4202 - accuracy: 0.8885 - val_loss: 0.3523 - val_accuracy: 0.9082\n",
            "Epoch 4/25\n",
            "1875/1875 [==============================] - 5s 3ms/step - loss: 0.3997 - accuracy: 0.8991 - val_loss: 0.3497 - val_accuracy: 0.9194\n",
            "Epoch 5/25\n",
            "1875/1875 [==============================] - 5s 3ms/step - loss: 0.4267 - accuracy: 0.8891 - val_loss: 0.3771 - val_accuracy: 0.9104\n",
            "Epoch 6/25\n",
            "1875/1875 [==============================] - 5s 3ms/step - loss: 0.4132 - accuracy: 0.8970 - val_loss: 0.4916 - val_accuracy: 0.8178\n",
            "Epoch 7/25\n",
            "1875/1875 [==============================] - 5s 3ms/step - loss: 0.6383 - accuracy: 0.8087 - val_loss: 0.7437 - val_accuracy: 0.7244\n",
            "Epoch 8/25\n",
            "1875/1875 [==============================] - 5s 3ms/step - loss: 0.6197 - accuracy: 0.8140 - val_loss: 0.4619 - val_accuracy: 0.9031\n",
            "Epoch 9/25\n",
            "1875/1875 [==============================] - 5s 3ms/step - loss: 0.7385 - accuracy: 0.7603 - val_loss: 0.7843 - val_accuracy: 0.7466\n",
            "Epoch 10/25\n",
            "1875/1875 [==============================] - 5s 3ms/step - loss: 0.7868 - accuracy: 0.7272 - val_loss: 1.1361 - val_accuracy: 0.5612\n",
            "Epoch 11/25\n",
            "1875/1875 [==============================] - 6s 3ms/step - loss: 0.9794 - accuracy: 0.6009 - val_loss: 0.9991 - val_accuracy: 0.5548\n",
            "Epoch 12/25\n",
            "1875/1875 [==============================] - 5s 3ms/step - loss: 1.0733 - accuracy: 0.5589 - val_loss: 1.0218 - val_accuracy: 0.6073\n",
            "Epoch 13/25\n",
            "1875/1875 [==============================] - 5s 3ms/step - loss: 1.1214 - accuracy: 0.5292 - val_loss: 1.1864 - val_accuracy: 0.4729\n",
            "Epoch 14/25\n",
            "1875/1875 [==============================] - 5s 3ms/step - loss: 1.2248 - accuracy: 0.4630 - val_loss: 1.1941 - val_accuracy: 0.4780\n",
            "Epoch 15/25\n",
            "1875/1875 [==============================] - 5s 3ms/step - loss: 1.4236 - accuracy: 0.3898 - val_loss: 1.6905 - val_accuracy: 0.2675\n",
            "Epoch 16/25\n",
            "1875/1875 [==============================] - 5s 3ms/step - loss: 1.8454 - accuracy: 0.2494 - val_loss: 1.8064 - val_accuracy: 0.2661\n",
            "Epoch 17/25\n",
            "1875/1875 [==============================] - 5s 3ms/step - loss: 1.7895 - accuracy: 0.2623 - val_loss: 1.8555 - val_accuracy: 0.2328\n",
            "Epoch 18/25\n",
            "1875/1875 [==============================] - 5s 3ms/step - loss: 1.8302 - accuracy: 0.2490 - val_loss: 1.7982 - val_accuracy: 0.2651\n",
            "Epoch 19/25\n",
            "1875/1875 [==============================] - 5s 3ms/step - loss: 1.7584 - accuracy: 0.2828 - val_loss: 1.6128 - val_accuracy: 0.3381\n",
            "Epoch 20/25\n",
            "1875/1875 [==============================] - 5s 3ms/step - loss: 1.7695 - accuracy: 0.2707 - val_loss: 1.7755 - val_accuracy: 0.2737\n",
            "Epoch 21/25\n",
            "1875/1875 [==============================] - 5s 3ms/step - loss: 1.7772 - accuracy: 0.2580 - val_loss: 1.7612 - val_accuracy: 0.2799\n",
            "Epoch 22/25\n",
            "1875/1875 [==============================] - 5s 3ms/step - loss: 1.7600 - accuracy: 0.2620 - val_loss: 1.7819 - val_accuracy: 0.2615\n",
            "Epoch 23/25\n",
            "1875/1875 [==============================] - 5s 3ms/step - loss: 1.7532 - accuracy: 0.2576 - val_loss: 1.7738 - val_accuracy: 0.2562\n",
            "Epoch 24/25\n",
            "1875/1875 [==============================] - 5s 3ms/step - loss: 1.7724 - accuracy: 0.2581 - val_loss: 1.7876 - val_accuracy: 0.2426\n",
            "Epoch 25/25\n",
            "1875/1875 [==============================] - 5s 3ms/step - loss: 1.7575 - accuracy: 0.2605 - val_loss: 1.8694 - val_accuracy: 0.2563\n"
          ],
          "name": "stdout"
        }
      ]
    },
    {
      "cell_type": "markdown",
      "metadata": {
        "id": "kAqDmTVBNSMR"
      },
      "source": [
        "### Low Learning Rate"
      ]
    },
    {
      "cell_type": "code",
      "metadata": {
        "id": "Ech1ER64NXBn",
        "outputId": "6748eca6-80aa-48e8-e72e-c5471765512d",
        "colab": {
          "base_uri": "https://localhost:8080/"
        }
      },
      "source": [
        "model = create_model(lr=0.001)\n",
        "\n",
        "lr_low = model.fit(\n",
        "  X_train, y_train,\n",
        "  epochs=25,\n",
        "  batch_size=32,\n",
        "  validation_data=(X_test, y_test)\n",
        ")"
      ],
      "execution_count": null,
      "outputs": [
        {
          "output_type": "stream",
          "text": [
            "Epoch 1/25\n",
            "1875/1875 [==============================] - 5s 3ms/step - loss: 1.9865 - accuracy: 0.4209 - val_loss: 1.5430 - val_accuracy: 0.6906\n",
            "Epoch 2/25\n",
            "1875/1875 [==============================] - 5s 3ms/step - loss: 1.1761 - accuracy: 0.7365 - val_loss: 0.8719 - val_accuracy: 0.7965\n",
            "Epoch 3/25\n",
            "1875/1875 [==============================] - 5s 3ms/step - loss: 0.7604 - accuracy: 0.8081 - val_loss: 0.6348 - val_accuracy: 0.8403\n",
            "Epoch 4/25\n",
            "1875/1875 [==============================] - 5s 3ms/step - loss: 0.6000 - accuracy: 0.8426 - val_loss: 0.5271 - val_accuracy: 0.8615\n",
            "Epoch 5/25\n",
            "1875/1875 [==============================] - 5s 3ms/step - loss: 0.5154 - accuracy: 0.8619 - val_loss: 0.4637 - val_accuracy: 0.8745\n",
            "Epoch 6/25\n",
            "1875/1875 [==============================] - 5s 3ms/step - loss: 0.4620 - accuracy: 0.8735 - val_loss: 0.4211 - val_accuracy: 0.8862\n",
            "Epoch 7/25\n",
            "1875/1875 [==============================] - 5s 3ms/step - loss: 0.4254 - accuracy: 0.8820 - val_loss: 0.3931 - val_accuracy: 0.8898\n",
            "Epoch 8/25\n",
            "1875/1875 [==============================] - 5s 3ms/step - loss: 0.3988 - accuracy: 0.8888 - val_loss: 0.3702 - val_accuracy: 0.8952\n",
            "Epoch 9/25\n",
            "1875/1875 [==============================] - 5s 3ms/step - loss: 0.3787 - accuracy: 0.8937 - val_loss: 0.3534 - val_accuracy: 0.8999\n",
            "Epoch 10/25\n",
            "1875/1875 [==============================] - 5s 3ms/step - loss: 0.3628 - accuracy: 0.8977 - val_loss: 0.3393 - val_accuracy: 0.9031\n",
            "Epoch 11/25\n",
            "1875/1875 [==============================] - 5s 3ms/step - loss: 0.3496 - accuracy: 0.9013 - val_loss: 0.3285 - val_accuracy: 0.9060\n",
            "Epoch 12/25\n",
            "1875/1875 [==============================] - 5s 3ms/step - loss: 0.3386 - accuracy: 0.9034 - val_loss: 0.3197 - val_accuracy: 0.9088\n",
            "Epoch 13/25\n",
            "1875/1875 [==============================] - 5s 3ms/step - loss: 0.3289 - accuracy: 0.9065 - val_loss: 0.3120 - val_accuracy: 0.9110\n",
            "Epoch 14/25\n",
            "1875/1875 [==============================] - 5s 3ms/step - loss: 0.3203 - accuracy: 0.9080 - val_loss: 0.3038 - val_accuracy: 0.9126\n",
            "Epoch 15/25\n",
            "1875/1875 [==============================] - 6s 3ms/step - loss: 0.3129 - accuracy: 0.9105 - val_loss: 0.2973 - val_accuracy: 0.9142\n",
            "Epoch 16/25\n",
            "1875/1875 [==============================] - 6s 3ms/step - loss: 0.3059 - accuracy: 0.9130 - val_loss: 0.2918 - val_accuracy: 0.9159\n",
            "Epoch 17/25\n",
            "1875/1875 [==============================] - 5s 3ms/step - loss: 0.2996 - accuracy: 0.9140 - val_loss: 0.2875 - val_accuracy: 0.9172\n",
            "Epoch 18/25\n",
            "1875/1875 [==============================] - 5s 3ms/step - loss: 0.2940 - accuracy: 0.9156 - val_loss: 0.2821 - val_accuracy: 0.9197\n",
            "Epoch 19/25\n",
            "1875/1875 [==============================] - 5s 3ms/step - loss: 0.2886 - accuracy: 0.9171 - val_loss: 0.2772 - val_accuracy: 0.9205\n",
            "Epoch 20/25\n",
            "1875/1875 [==============================] - 5s 3ms/step - loss: 0.2835 - accuracy: 0.9186 - val_loss: 0.2736 - val_accuracy: 0.9218\n",
            "Epoch 21/25\n",
            "1875/1875 [==============================] - 5s 3ms/step - loss: 0.2789 - accuracy: 0.9196 - val_loss: 0.2701 - val_accuracy: 0.9223\n",
            "Epoch 22/25\n",
            "1875/1875 [==============================] - 5s 3ms/step - loss: 0.2744 - accuracy: 0.9212 - val_loss: 0.2660 - val_accuracy: 0.9234\n",
            "Epoch 23/25\n",
            "1875/1875 [==============================] - 5s 3ms/step - loss: 0.2704 - accuracy: 0.9223 - val_loss: 0.2620 - val_accuracy: 0.9244\n",
            "Epoch 24/25\n",
            "1875/1875 [==============================] - 5s 3ms/step - loss: 0.2665 - accuracy: 0.9233 - val_loss: 0.2592 - val_accuracy: 0.9260\n",
            "Epoch 25/25\n",
            "1875/1875 [==============================] - 5s 3ms/step - loss: 0.2627 - accuracy: 0.9245 - val_loss: 0.2559 - val_accuracy: 0.9264\n"
          ],
          "name": "stdout"
        }
      ]
    },
    {
      "cell_type": "markdown",
      "metadata": {
        "id": "sZe6DyhANXdU"
      },
      "source": [
        "### Visualization of Results"
      ]
    },
    {
      "cell_type": "code",
      "metadata": {
        "id": "Bn-BdFdMNph-"
      },
      "source": [
        ""
      ],
      "execution_count": null,
      "outputs": []
    },
    {
      "cell_type": "markdown",
      "metadata": {
        "id": "Kb2aiw_Sgcl7"
      },
      "source": [
        "## Challenge\n",
        "\n",
        "You will be expected to experiment with different learning rates today.\n",
        "\n",
        "---"
      ]
    }
  ]
}