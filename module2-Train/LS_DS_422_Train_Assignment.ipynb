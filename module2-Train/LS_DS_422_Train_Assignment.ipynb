{
 "cells": [
  {
   "cell_type": "markdown",
   "metadata": {
    "colab_type": "text",
    "id": "NGGrt9EYlCqY"
   },
   "source": [
    "<img align=\"left\" src=\"https://lever-client-logos.s3.amazonaws.com/864372b1-534c-480e-acd5-9711f850815c-1524247202159.png\" width=200>\n",
    "<br></br>\n",
    "<br></br>\n",
    "\n",
    "# Train Practice\n",
    "\n",
    "## *Data Science Unit 4 Sprint 2 Assignment 2*\n",
    "\n",
    "Continue to use TensorFlow Keras & a sample of the [Quickdraw dataset](https://github.com/googlecreativelab/quickdraw-dataset) to build a sketch classification model. The dataset has been sampled to only 10 classes and 10000 observations per class. Please build a baseline classification model then run a few experiments with different optimizers and learning rates. \n",
    "\n",
    "*Don't forgot to switch to GPU on Colab!*"
   ]
  },
  {
   "cell_type": "markdown",
   "metadata": {
    "colab_type": "text",
    "id": "ptJ2b3wk62Ud"
   },
   "source": [
    "### Write a function to load your data\n",
    "\n",
    "Wrap yesterday's preprocessing steps into a function that returns four items:\n",
    "* X_train\n",
    "* y_train\n",
    "* X_test\n",
    "* y_test\n",
    "\n",
    "Your function should accept a `path` to the data as a argument."
   ]
  },
  {
   "cell_type": "code",
   "execution_count": 6,
   "metadata": {},
   "outputs": [],
   "source": [
    "import warnings\n",
    "warnings.filterwarnings('ignore')\n",
    "\n",
    "import pandas as pd\n",
    "import numpy as np\n",
    "from sklearn.model_selection import train_test_split"
   ]
  },
  {
   "cell_type": "code",
   "execution_count": 7,
   "metadata": {
    "colab": {},
    "colab_type": "code",
    "id": "nJsIsrvp7O3e"
   },
   "outputs": [],
   "source": [
    "def load_quickdraw10(path):\n",
    "  data = np.load(path)\n",
    "  X = data['arr_0']\n",
    "  y = data['arr_1']\n",
    "  X_train, X_test, y_train, y_test = train_test_split(X, y, test_size=0.2, random_state=42)\n",
    "  return X_train, X_test, y_train, y_test"
   ]
  },
  {
   "cell_type": "code",
   "execution_count": 8,
   "metadata": {},
   "outputs": [
    {
     "name": "stdout",
     "output_type": "stream",
     "text": [
      "(80000, 784)\n",
      "(80000,)\n",
      "(20000, 784)\n",
      "(20000,)\n"
     ]
    }
   ],
   "source": [
    "X_train, X_test, y_train, y_test = load_quickdraw10('quickdraw10.npz')\n",
    "\n",
    "print(X_train.shape)\n",
    "print(y_train.shape)\n",
    "print(X_test.shape)\n",
    "print(y_test.shape)"
   ]
  },
  {
   "cell_type": "markdown",
   "metadata": {
    "colab_type": "text",
    "id": "l-6PxI6H5__2"
   },
   "source": [
    "### Write a Model Function\n",
    "Using your model from yesterday, write a function called `create_model` which returns a compiled TensorFlow Keras Sequential Model suitable for classifying the QuickDraw-10 dataset. Include parameters for the following: \n",
    "* Learning Rate\n",
    "* Optimizer"
   ]
  },
  {
   "cell_type": "code",
   "execution_count": 16,
   "metadata": {
    "colab": {},
    "colab_type": "code",
    "id": "nEREYT-3wI1f"
   },
   "outputs": [],
   "source": [
    "##### Your Code Here #####\n",
    "\n",
    "from tensorflow.keras import Sequential\n",
    "from tensorflow.keras.layers import Dense\n",
    "from tensorflow.keras.optimizers import SGD\n",
    "from tensorflow.keras.optimizers import Adam\n",
    "\n",
    "def create_model(lr=0.001):\n",
    "  opt = Adam(learning_rate=lr)\n",
    "  model = Sequential([\n",
    "    Dense(32, activation='relu', input_dim=784),\n",
    "    Dense(32, activation='relu'),\n",
    "    Dense(10, activation='softmax')\n",
    "  ])\n",
    "  model.compile(optimizer=opt,\n",
    "                loss='sparse_categorical_crossentropy',\n",
    "                metrics=['accuracy'])\n",
    "  return model"
   ]
  },
  {
   "cell_type": "code",
   "execution_count": 17,
   "metadata": {},
   "outputs": [
    {
     "name": "stdout",
     "output_type": "stream",
     "text": [
      "Model: \"sequential_4\"\n",
      "_________________________________________________________________\n",
      "Layer (type)                 Output Shape              Param #   \n",
      "=================================================================\n",
      "dense_12 (Dense)             (None, 32)                25120     \n",
      "_________________________________________________________________\n",
      "dense_13 (Dense)             (None, 32)                1056      \n",
      "_________________________________________________________________\n",
      "dense_14 (Dense)             (None, 10)                330       \n",
      "=================================================================\n",
      "Total params: 26,506\n",
      "Trainable params: 26,506\n",
      "Non-trainable params: 0\n",
      "_________________________________________________________________\n"
     ]
    }
   ],
   "source": [
    "model = create_model()\n",
    "model.summary()"
   ]
  },
  {
   "cell_type": "markdown",
   "metadata": {
    "colab_type": "text",
    "id": "f0pCkh8C7eGL"
   },
   "source": [
    "### Experiment with Batch Size\n",
    "* Run 5 experiments with various batch sizes of your choice. \n",
    "* Visualize the results\n",
    "* Write up an analysis of the experiments and select the \"best\" performing model among your experiments. Make sure to compare against your model's performance yesterday. "
   ]
  },
  {
   "cell_type": "code",
   "execution_count": 21,
   "metadata": {
    "colab": {},
    "colab_type": "code",
    "id": "USXjs7Hk71Hy"
   },
   "outputs": [
    {
     "name": "stdout",
     "output_type": "stream",
     "text": [
      "Epoch 1/25\n",
      "2500/2500 [==============================] - 1s 515us/step - loss: 2.1473 - accuracy: 0.4273 - val_loss: 1.3354 - val_accuracy: 0.5271\n",
      "Epoch 2/25\n",
      "2500/2500 [==============================] - 1s 493us/step - loss: 1.2614 - accuracy: 0.5562 - val_loss: 1.2277 - val_accuracy: 0.5599\n",
      "Epoch 3/25\n",
      "2500/2500 [==============================] - 1s 503us/step - loss: 1.1910 - accuracy: 0.5901 - val_loss: 1.2024 - val_accuracy: 0.6028\n",
      "Epoch 4/25\n",
      "2500/2500 [==============================] - 1s 501us/step - loss: 1.1405 - accuracy: 0.6164 - val_loss: 1.1720 - val_accuracy: 0.6036\n",
      "Epoch 5/25\n",
      "2500/2500 [==============================] - 1s 501us/step - loss: 1.0900 - accuracy: 0.6387 - val_loss: 1.0921 - val_accuracy: 0.6453\n",
      "Epoch 6/25\n",
      "2500/2500 [==============================] - 1s 495us/step - loss: 1.0391 - accuracy: 0.6736 - val_loss: 1.0260 - val_accuracy: 0.6874\n",
      "Epoch 7/25\n",
      "2500/2500 [==============================] - 1s 492us/step - loss: 0.9883 - accuracy: 0.6983 - val_loss: 1.0060 - val_accuracy: 0.7032\n",
      "Epoch 8/25\n",
      "2500/2500 [==============================] - 1s 489us/step - loss: 0.9468 - accuracy: 0.7149 - val_loss: 0.9395 - val_accuracy: 0.7180\n",
      "Epoch 9/25\n",
      "2500/2500 [==============================] - 1s 505us/step - loss: 0.9182 - accuracy: 0.7222 - val_loss: 0.9168 - val_accuracy: 0.7274\n",
      "Epoch 10/25\n",
      "2500/2500 [==============================] - 1s 501us/step - loss: 0.8813 - accuracy: 0.7336 - val_loss: 0.9034 - val_accuracy: 0.7319\n",
      "Epoch 11/25\n",
      "2500/2500 [==============================] - 1s 507us/step - loss: 0.8503 - accuracy: 0.7443 - val_loss: 0.8584 - val_accuracy: 0.7495\n",
      "Epoch 12/25\n",
      "2500/2500 [==============================] - 1s 501us/step - loss: 0.8300 - accuracy: 0.7537 - val_loss: 0.8388 - val_accuracy: 0.7576\n",
      "Epoch 13/25\n",
      "2500/2500 [==============================] - 1s 506us/step - loss: 0.8096 - accuracy: 0.7598 - val_loss: 0.8479 - val_accuracy: 0.7471\n",
      "Epoch 14/25\n",
      "2500/2500 [==============================] - 1s 501us/step - loss: 0.7928 - accuracy: 0.7641 - val_loss: 0.8140 - val_accuracy: 0.7637\n",
      "Epoch 15/25\n",
      "2500/2500 [==============================] - 1s 508us/step - loss: 0.7778 - accuracy: 0.7691 - val_loss: 0.7973 - val_accuracy: 0.7641\n",
      "Epoch 16/25\n",
      "2500/2500 [==============================] - 1s 491us/step - loss: 0.7683 - accuracy: 0.7703 - val_loss: 0.7845 - val_accuracy: 0.7671\n",
      "Epoch 17/25\n",
      "2500/2500 [==============================] - 1s 495us/step - loss: 0.7561 - accuracy: 0.7734 - val_loss: 0.7746 - val_accuracy: 0.7711\n",
      "Epoch 18/25\n",
      "2500/2500 [==============================] - 1s 504us/step - loss: 0.7432 - accuracy: 0.7781 - val_loss: 0.7678 - val_accuracy: 0.7713\n",
      "Epoch 19/25\n",
      "2500/2500 [==============================] - 1s 511us/step - loss: 0.7279 - accuracy: 0.7823 - val_loss: 0.7608 - val_accuracy: 0.7749\n",
      "Epoch 20/25\n",
      "2500/2500 [==============================] - 1s 493us/step - loss: 0.7131 - accuracy: 0.7898 - val_loss: 0.7389 - val_accuracy: 0.7846\n",
      "Epoch 21/25\n",
      "2500/2500 [==============================] - 1s 488us/step - loss: 0.7010 - accuracy: 0.7914 - val_loss: 0.7536 - val_accuracy: 0.7796\n",
      "Epoch 22/25\n",
      "2500/2500 [==============================] - 1s 507us/step - loss: 0.6978 - accuracy: 0.7948 - val_loss: 0.7593 - val_accuracy: 0.7800\n",
      "Epoch 23/25\n",
      "2500/2500 [==============================] - 1s 487us/step - loss: 0.6903 - accuracy: 0.7948 - val_loss: 0.7371 - val_accuracy: 0.7872\n",
      "Epoch 24/25\n",
      "2500/2500 [==============================] - 1s 524us/step - loss: 0.6836 - accuracy: 0.7974 - val_loss: 0.7501 - val_accuracy: 0.7786\n",
      "Epoch 25/25\n",
      "2500/2500 [==============================] - 1s 495us/step - loss: 0.6796 - accuracy: 0.7974 - val_loss: 0.7574 - val_accuracy: 0.7828\n"
     ]
    }
   ],
   "source": [
    "model = create_model()\n",
    "\n",
    "bt_32 = model.fit(\n",
    "  X_train, y_train,\n",
    "  epochs=25,\n",
    "  batch_size=32,\n",
    "  validation_data=(X_test, y_test)\n",
    ")"
   ]
  },
  {
   "cell_type": "code",
   "execution_count": 22,
   "metadata": {},
   "outputs": [
    {
     "name": "stdout",
     "output_type": "stream",
     "text": [
      "Epoch 1/25\n",
      "1250/1250 [==============================] - 1s 580us/step - loss: 2.6500 - accuracy: 0.3683 - val_loss: 1.4521 - val_accuracy: 0.4934\n",
      "Epoch 2/25\n",
      "1250/1250 [==============================] - 1s 545us/step - loss: 1.3317 - accuracy: 0.5404 - val_loss: 1.2472 - val_accuracy: 0.5934\n",
      "Epoch 3/25\n",
      "1250/1250 [==============================] - 1s 559us/step - loss: 1.1593 - accuracy: 0.6155 - val_loss: 1.2207 - val_accuracy: 0.5975\n",
      "Epoch 4/25\n",
      "1250/1250 [==============================] - 1s 565us/step - loss: 1.0850 - accuracy: 0.6532 - val_loss: 1.0675 - val_accuracy: 0.6654\n",
      "Epoch 5/25\n",
      "1250/1250 [==============================] - 1s 551us/step - loss: 1.0354 - accuracy: 0.6763 - val_loss: 1.0116 - val_accuracy: 0.6927\n",
      "Epoch 6/25\n",
      "1250/1250 [==============================] - 1s 536us/step - loss: 1.0086 - accuracy: 0.6897 - val_loss: 1.0405 - val_accuracy: 0.6902\n",
      "Epoch 7/25\n",
      "1250/1250 [==============================] - 1s 539us/step - loss: 0.9728 - accuracy: 0.7008 - val_loss: 0.9639 - val_accuracy: 0.7162\n",
      "Epoch 8/25\n",
      "1250/1250 [==============================] - 1s 543us/step - loss: 0.9539 - accuracy: 0.7102 - val_loss: 0.9944 - val_accuracy: 0.7180\n",
      "Epoch 9/25\n",
      "1250/1250 [==============================] - 1s 545us/step - loss: 0.9349 - accuracy: 0.7177 - val_loss: 0.9283 - val_accuracy: 0.7242\n",
      "Epoch 10/25\n",
      "1250/1250 [==============================] - 1s 559us/step - loss: 0.9083 - accuracy: 0.7288 - val_loss: 0.9688 - val_accuracy: 0.7184\n",
      "Epoch 11/25\n",
      "1250/1250 [==============================] - 1s 559us/step - loss: 0.9003 - accuracy: 0.7363 - val_loss: 0.9386 - val_accuracy: 0.7313\n",
      "Epoch 12/25\n",
      "1250/1250 [==============================] - 1s 578us/step - loss: 0.8925 - accuracy: 0.7392 - val_loss: 0.9170 - val_accuracy: 0.7316\n",
      "Epoch 13/25\n",
      "1250/1250 [==============================] - 1s 548us/step - loss: 0.8697 - accuracy: 0.7456 - val_loss: 0.9123 - val_accuracy: 0.7387\n",
      "Epoch 14/25\n",
      "1250/1250 [==============================] - 1s 551us/step - loss: 0.8602 - accuracy: 0.7482 - val_loss: 0.8675 - val_accuracy: 0.7501\n",
      "Epoch 15/25\n",
      "1250/1250 [==============================] - 1s 564us/step - loss: 0.8515 - accuracy: 0.7489 - val_loss: 0.9054 - val_accuracy: 0.7453\n",
      "Epoch 16/25\n",
      "1250/1250 [==============================] - 1s 556us/step - loss: 0.8417 - accuracy: 0.7526 - val_loss: 0.8663 - val_accuracy: 0.7495\n",
      "Epoch 17/25\n",
      "1250/1250 [==============================] - 1s 549us/step - loss: 0.8438 - accuracy: 0.7520 - val_loss: 0.9055 - val_accuracy: 0.7389\n",
      "Epoch 18/25\n",
      "1250/1250 [==============================] - 1s 545us/step - loss: 0.8299 - accuracy: 0.7535 - val_loss: 0.8775 - val_accuracy: 0.7332\n",
      "Epoch 19/25\n",
      "1250/1250 [==============================] - 1s 545us/step - loss: 0.8203 - accuracy: 0.7578 - val_loss: 0.8492 - val_accuracy: 0.7528\n",
      "Epoch 20/25\n",
      "1250/1250 [==============================] - 1s 551us/step - loss: 0.8130 - accuracy: 0.7599 - val_loss: 0.8740 - val_accuracy: 0.7443\n",
      "Epoch 21/25\n",
      "1250/1250 [==============================] - 1s 555us/step - loss: 0.8069 - accuracy: 0.7604 - val_loss: 0.8628 - val_accuracy: 0.7549\n",
      "Epoch 22/25\n",
      "1250/1250 [==============================] - 1s 567us/step - loss: 0.8046 - accuracy: 0.7618 - val_loss: 0.8424 - val_accuracy: 0.7548\n",
      "Epoch 23/25\n",
      "1250/1250 [==============================] - 1s 566us/step - loss: 0.7907 - accuracy: 0.7638 - val_loss: 0.8622 - val_accuracy: 0.7490\n",
      "Epoch 24/25\n",
      "1250/1250 [==============================] - 1s 552us/step - loss: 0.7884 - accuracy: 0.7660 - val_loss: 0.8252 - val_accuracy: 0.7562\n",
      "Epoch 25/25\n",
      "1250/1250 [==============================] - 1s 555us/step - loss: 0.7731 - accuracy: 0.7693 - val_loss: 0.8787 - val_accuracy: 0.7481\n"
     ]
    }
   ],
   "source": [
    "model = create_model()\n",
    "\n",
    "bt_64 = model.fit(\n",
    "  X_train, y_train,\n",
    "  epochs=25,\n",
    "  batch_size=64,\n",
    "  validation_data=(X_test, y_test)\n",
    ")"
   ]
  },
  {
   "cell_type": "code",
   "execution_count": 23,
   "metadata": {},
   "outputs": [
    {
     "name": "stdout",
     "output_type": "stream",
     "text": [
      "Epoch 1/25\n",
      "10000/10000 [==============================] - 4s 423us/step - loss: 1.7978 - accuracy: 0.3945 - val_loss: 1.4978 - val_accuracy: 0.4397\n",
      "Epoch 2/25\n",
      "10000/10000 [==============================] - 4s 439us/step - loss: 1.4323 - accuracy: 0.4669 - val_loss: 1.4153 - val_accuracy: 0.4498\n",
      "Epoch 3/25\n",
      "10000/10000 [==============================] - 4s 437us/step - loss: 1.3405 - accuracy: 0.4995 - val_loss: 1.2900 - val_accuracy: 0.5242\n",
      "Epoch 4/25\n",
      "10000/10000 [==============================] - 5s 456us/step - loss: 1.2822 - accuracy: 0.5247 - val_loss: 1.2358 - val_accuracy: 0.5436\n",
      "Epoch 5/25\n",
      "10000/10000 [==============================] - 5s 453us/step - loss: 1.2155 - accuracy: 0.5581 - val_loss: 1.2449 - val_accuracy: 0.5458\n",
      "Epoch 6/25\n",
      "10000/10000 [==============================] - 4s 427us/step - loss: 1.1869 - accuracy: 0.5681 - val_loss: 1.1815 - val_accuracy: 0.5737\n",
      "Epoch 7/25\n",
      "10000/10000 [==============================] - 4s 443us/step - loss: 1.1704 - accuracy: 0.5777 - val_loss: 1.1392 - val_accuracy: 0.5854\n",
      "Epoch 8/25\n",
      "10000/10000 [==============================] - 4s 418us/step - loss: 1.1424 - accuracy: 0.5981 - val_loss: 1.1365 - val_accuracy: 0.6169\n",
      "Epoch 9/25\n",
      "10000/10000 [==============================] - 4s 438us/step - loss: 1.1114 - accuracy: 0.6151 - val_loss: 1.0816 - val_accuracy: 0.6319\n",
      "Epoch 10/25\n",
      "10000/10000 [==============================] - 4s 434us/step - loss: 1.0289 - accuracy: 0.6588 - val_loss: 1.0164 - val_accuracy: 0.6707\n",
      "Epoch 11/25\n",
      "10000/10000 [==============================] - 4s 418us/step - loss: 1.0049 - accuracy: 0.6726 - val_loss: 0.9954 - val_accuracy: 0.6805\n",
      "Epoch 12/25\n",
      "10000/10000 [==============================] - 4s 425us/step - loss: 0.9810 - accuracy: 0.6781 - val_loss: 0.9811 - val_accuracy: 0.6854\n",
      "Epoch 13/25\n",
      "10000/10000 [==============================] - 4s 426us/step - loss: 0.9638 - accuracy: 0.6915 - val_loss: 0.9508 - val_accuracy: 0.6938\n",
      "Epoch 14/25\n",
      "10000/10000 [==============================] - 4s 445us/step - loss: 0.9091 - accuracy: 0.7166 - val_loss: 0.9152 - val_accuracy: 0.7219\n",
      "Epoch 15/25\n",
      "10000/10000 [==============================] - 4s 423us/step - loss: 0.8841 - accuracy: 0.7292 - val_loss: 0.8966 - val_accuracy: 0.7292\n",
      "Epoch 16/25\n",
      "10000/10000 [==============================] - 4s 446us/step - loss: 0.8750 - accuracy: 0.7300 - val_loss: 0.8990 - val_accuracy: 0.7285\n",
      "Epoch 17/25\n",
      "10000/10000 [==============================] - 4s 441us/step - loss: 0.8676 - accuracy: 0.7285 - val_loss: 0.9113 - val_accuracy: 0.7206\n",
      "Epoch 18/25\n",
      "10000/10000 [==============================] - 4s 449us/step - loss: 0.8609 - accuracy: 0.7316 - val_loss: 0.8913 - val_accuracy: 0.7246\n",
      "Epoch 19/25\n",
      "10000/10000 [==============================] - 4s 439us/step - loss: 0.8476 - accuracy: 0.7411 - val_loss: 0.8793 - val_accuracy: 0.7401\n",
      "Epoch 20/25\n",
      "10000/10000 [==============================] - 5s 451us/step - loss: 0.8342 - accuracy: 0.7470 - val_loss: 0.8724 - val_accuracy: 0.7474\n",
      "Epoch 21/25\n",
      "10000/10000 [==============================] - 4s 425us/step - loss: 0.8076 - accuracy: 0.7574 - val_loss: 0.8755 - val_accuracy: 0.7429\n",
      "Epoch 22/25\n",
      "10000/10000 [==============================] - 4s 419us/step - loss: 0.7886 - accuracy: 0.7650 - val_loss: 0.8106 - val_accuracy: 0.7627\n",
      "Epoch 23/25\n",
      "10000/10000 [==============================] - 4s 441us/step - loss: 0.7770 - accuracy: 0.7681 - val_loss: 0.8167 - val_accuracy: 0.7638\n",
      "Epoch 24/25\n",
      "10000/10000 [==============================] - 4s 417us/step - loss: 0.7709 - accuracy: 0.7715 - val_loss: 0.7955 - val_accuracy: 0.7703\n",
      "Epoch 25/25\n",
      "10000/10000 [==============================] - 4s 428us/step - loss: 0.7627 - accuracy: 0.7736 - val_loss: 0.8184 - val_accuracy: 0.7631\n"
     ]
    }
   ],
   "source": [
    "model = create_model()\n",
    "\n",
    "bt_8 = model.fit(\n",
    "  X_train, y_train,\n",
    "  epochs=25,\n",
    "  batch_size=8,\n",
    "  validation_data=(X_test, y_test)\n",
    ")"
   ]
  },
  {
   "cell_type": "code",
   "execution_count": 24,
   "metadata": {},
   "outputs": [
    {
     "name": "stdout",
     "output_type": "stream",
     "text": [
      "Epoch 1/25\n",
      "4996/5000 [============================>.] - ETA: 0s - loss: 1.7855 - accuracy: 0.4509WARNING:tensorflow:Callbacks method `on_test_batch_end` is slow compared to the batch time (batch time: 0.0000s vs `on_test_batch_end` time: 0.0010s). Check your callbacks.\n",
      "5000/5000 [==============================] - 2s 488us/step - loss: 1.7850 - accuracy: 0.4511 - val_loss: 1.3275 - val_accuracy: 0.5492\n",
      "Epoch 2/25\n",
      "5000/5000 [==============================] - 2s 468us/step - loss: 1.2485 - accuracy: 0.5630 - val_loss: 1.1926 - val_accuracy: 0.5694\n",
      "Epoch 3/25\n",
      "5000/5000 [==============================] - 2s 455us/step - loss: 1.1820 - accuracy: 0.5903 - val_loss: 1.1442 - val_accuracy: 0.6131\n",
      "Epoch 4/25\n",
      "5000/5000 [==============================] - 2s 444us/step - loss: 1.1107 - accuracy: 0.6192 - val_loss: 1.0721 - val_accuracy: 0.6298\n",
      "Epoch 5/25\n",
      "5000/5000 [==============================] - 2s 453us/step - loss: 1.0540 - accuracy: 0.6384 - val_loss: 1.0365 - val_accuracy: 0.6434\n",
      "Epoch 6/25\n",
      "5000/5000 [==============================] - 2s 448us/step - loss: 1.0065 - accuracy: 0.6489 - val_loss: 0.9804 - val_accuracy: 0.6658\n",
      "Epoch 7/25\n",
      "5000/5000 [==============================] - 2s 471us/step - loss: 0.9752 - accuracy: 0.6607 - val_loss: 0.9641 - val_accuracy: 0.6722\n",
      "Epoch 8/25\n",
      "5000/5000 [==============================] - 2s 476us/step - loss: 0.9614 - accuracy: 0.6704 - val_loss: 0.9715 - val_accuracy: 0.6707\n",
      "Epoch 9/25\n",
      "5000/5000 [==============================] - 2s 483us/step - loss: 0.9540 - accuracy: 0.6732 - val_loss: 0.9779 - val_accuracy: 0.6515\n",
      "Epoch 10/25\n",
      "5000/5000 [==============================] - 2s 471us/step - loss: 0.9505 - accuracy: 0.6725 - val_loss: 0.9752 - val_accuracy: 0.6769\n",
      "Epoch 11/25\n",
      "5000/5000 [==============================] - 2s 457us/step - loss: 0.9426 - accuracy: 0.6796 - val_loss: 0.9801 - val_accuracy: 0.6700\n",
      "Epoch 12/25\n",
      "5000/5000 [==============================] - 2s 446us/step - loss: 0.9457 - accuracy: 0.6791 - val_loss: 0.9597 - val_accuracy: 0.6751\n",
      "Epoch 13/25\n",
      "5000/5000 [==============================] - 2s 457us/step - loss: 0.9378 - accuracy: 0.6824 - val_loss: 0.9597 - val_accuracy: 0.6788\n",
      "Epoch 14/25\n",
      "5000/5000 [==============================] - 2s 470us/step - loss: 0.9431 - accuracy: 0.6813 - val_loss: 0.9683 - val_accuracy: 0.6769\n",
      "Epoch 15/25\n",
      "5000/5000 [==============================] - 2s 452us/step - loss: 0.9372 - accuracy: 0.6809 - val_loss: 0.9505 - val_accuracy: 0.6773\n",
      "Epoch 16/25\n",
      "5000/5000 [==============================] - 2s 463us/step - loss: 0.9316 - accuracy: 0.6847 - val_loss: 0.9600 - val_accuracy: 0.6809\n",
      "Epoch 17/25\n",
      "5000/5000 [==============================] - 2s 475us/step - loss: 0.9299 - accuracy: 0.6871 - val_loss: 0.9532 - val_accuracy: 0.6840\n",
      "Epoch 18/25\n",
      "5000/5000 [==============================] - 2s 449us/step - loss: 0.9236 - accuracy: 0.6937 - val_loss: 0.9414 - val_accuracy: 0.6870\n",
      "Epoch 19/25\n",
      "5000/5000 [==============================] - 2s 477us/step - loss: 0.9160 - accuracy: 0.6913 - val_loss: 0.9401 - val_accuracy: 0.6787\n",
      "Epoch 20/25\n",
      "5000/5000 [==============================] - 2s 476us/step - loss: 0.9183 - accuracy: 0.6906 - val_loss: 0.9459 - val_accuracy: 0.6828\n",
      "Epoch 21/25\n",
      "5000/5000 [==============================] - 2s 451us/step - loss: 0.9215 - accuracy: 0.6912 - val_loss: 0.9374 - val_accuracy: 0.6903\n",
      "Epoch 22/25\n",
      "5000/5000 [==============================] - 2s 450us/step - loss: 0.9131 - accuracy: 0.6928 - val_loss: 0.9490 - val_accuracy: 0.6836\n",
      "Epoch 23/25\n",
      "5000/5000 [==============================] - 2s 458us/step - loss: 0.9153 - accuracy: 0.6918 - val_loss: 0.9621 - val_accuracy: 0.6865\n",
      "Epoch 24/25\n",
      "5000/5000 [==============================] - 2s 450us/step - loss: 0.9147 - accuracy: 0.6913 - val_loss: 0.9452 - val_accuracy: 0.6830\n",
      "Epoch 25/25\n",
      "5000/5000 [==============================] - 2s 457us/step - loss: 0.9062 - accuracy: 0.6927 - val_loss: 0.9718 - val_accuracy: 0.6742\n"
     ]
    }
   ],
   "source": [
    "model = create_model()\n",
    "\n",
    "bt_16 = model.fit(\n",
    "  X_train, y_train,\n",
    "  epochs=25,\n",
    "  batch_size=16,\n",
    "  validation_data=(X_test, y_test)\n",
    ")"
   ]
  },
  {
   "cell_type": "code",
   "execution_count": 25,
   "metadata": {},
   "outputs": [
    {
     "name": "stdout",
     "output_type": "stream",
     "text": [
      "Epoch 1/25\n",
      "  1/625 [..............................] - ETA: 0s - loss: 59.0777 - accuracy: 0.1641WARNING:tensorflow:Callbacks method `on_train_batch_end` is slow compared to the batch time (batch time: 0.0000s vs `on_train_batch_end` time: 0.0010s). Check your callbacks.\n",
      "625/625 [==============================] - 0s 734us/step - loss: 2.6380 - accuracy: 0.3453 - val_loss: 1.5794 - val_accuracy: 0.4406\n",
      "Epoch 2/25\n",
      "625/625 [==============================] - 0s 670us/step - loss: 1.4207 - accuracy: 0.5045 - val_loss: 1.2994 - val_accuracy: 0.5458\n",
      "Epoch 3/25\n",
      "625/625 [==============================] - 0s 689us/step - loss: 1.1942 - accuracy: 0.6012 - val_loss: 1.1742 - val_accuracy: 0.6003\n",
      "Epoch 4/25\n",
      "625/625 [==============================] - 0s 641us/step - loss: 1.0773 - accuracy: 0.6507 - val_loss: 1.0557 - val_accuracy: 0.6561\n",
      "Epoch 5/25\n",
      "625/625 [==============================] - 0s 641us/step - loss: 1.0171 - accuracy: 0.6771 - val_loss: 1.0041 - val_accuracy: 0.6959\n",
      "Epoch 6/25\n",
      "625/625 [==============================] - 0s 638us/step - loss: 0.9759 - accuracy: 0.6957 - val_loss: 1.0413 - val_accuracy: 0.6811\n",
      "Epoch 7/25\n",
      "625/625 [==============================] - 0s 641us/step - loss: 0.9445 - accuracy: 0.7129 - val_loss: 0.9424 - val_accuracy: 0.7211\n",
      "Epoch 8/25\n",
      "625/625 [==============================] - 0s 659us/step - loss: 0.9094 - accuracy: 0.7244 - val_loss: 0.9309 - val_accuracy: 0.7272\n",
      "Epoch 9/25\n",
      "625/625 [==============================] - 0s 635us/step - loss: 0.8768 - accuracy: 0.7359 - val_loss: 0.9087 - val_accuracy: 0.7277\n",
      "Epoch 10/25\n",
      "625/625 [==============================] - 0s 659us/step - loss: 0.8536 - accuracy: 0.7438 - val_loss: 0.8993 - val_accuracy: 0.7437\n",
      "Epoch 11/25\n",
      "625/625 [==============================] - 0s 648us/step - loss: 0.8338 - accuracy: 0.7492 - val_loss: 0.8802 - val_accuracy: 0.7413\n",
      "Epoch 12/25\n",
      "625/625 [==============================] - 0s 651us/step - loss: 0.8183 - accuracy: 0.7531 - val_loss: 0.8457 - val_accuracy: 0.7512\n",
      "Epoch 13/25\n",
      "625/625 [==============================] - 0s 643us/step - loss: 0.8012 - accuracy: 0.7587 - val_loss: 0.8560 - val_accuracy: 0.7523\n",
      "Epoch 14/25\n",
      "625/625 [==============================] - 0s 635us/step - loss: 0.7931 - accuracy: 0.7604 - val_loss: 0.8509 - val_accuracy: 0.7434\n",
      "Epoch 15/25\n",
      "625/625 [==============================] - 0s 641us/step - loss: 0.7776 - accuracy: 0.7640 - val_loss: 0.8596 - val_accuracy: 0.7507\n",
      "Epoch 16/25\n",
      "625/625 [==============================] - 0s 657us/step - loss: 0.7674 - accuracy: 0.7671 - val_loss: 0.8163 - val_accuracy: 0.7545\n",
      "Epoch 17/25\n",
      "625/625 [==============================] - 0s 659us/step - loss: 0.7526 - accuracy: 0.7706 - val_loss: 0.7972 - val_accuracy: 0.7612\n",
      "Epoch 18/25\n",
      "625/625 [==============================] - 0s 681us/step - loss: 0.7427 - accuracy: 0.7746 - val_loss: 0.8063 - val_accuracy: 0.7570\n",
      "Epoch 19/25\n",
      "625/625 [==============================] - 0s 680us/step - loss: 0.7377 - accuracy: 0.7746 - val_loss: 0.7933 - val_accuracy: 0.7627\n",
      "Epoch 20/25\n",
      "625/625 [==============================] - 0s 715us/step - loss: 0.7272 - accuracy: 0.7781 - val_loss: 0.7862 - val_accuracy: 0.7661\n",
      "Epoch 21/25\n",
      "625/625 [==============================] - 0s 680us/step - loss: 0.7220 - accuracy: 0.7800 - val_loss: 0.7847 - val_accuracy: 0.7709\n",
      "Epoch 22/25\n",
      "625/625 [==============================] - 0s 649us/step - loss: 0.7138 - accuracy: 0.7828 - val_loss: 0.7770 - val_accuracy: 0.7732\n",
      "Epoch 23/25\n",
      "625/625 [==============================] - 0s 697us/step - loss: 0.7101 - accuracy: 0.7851 - val_loss: 0.7951 - val_accuracy: 0.7609\n",
      "Epoch 24/25\n",
      "625/625 [==============================] - 0s 681us/step - loss: 0.7045 - accuracy: 0.7867 - val_loss: 0.8117 - val_accuracy: 0.7449\n",
      "Epoch 25/25\n",
      "625/625 [==============================] - 0s 678us/step - loss: 0.6987 - accuracy: 0.7891 - val_loss: 0.7648 - val_accuracy: 0.7739\n"
     ]
    }
   ],
   "source": [
    "model = create_model()\n",
    "\n",
    "bt_128 = model.fit(\n",
    "  X_train, y_train,\n",
    "  epochs=25,\n",
    "  batch_size=128,\n",
    "  validation_data=(X_test, y_test)\n",
    ")"
   ]
  },
  {
   "cell_type": "code",
   "execution_count": null,
   "metadata": {},
   "outputs": [],
   "source": []
  },
  {
   "cell_type": "code",
   "execution_count": null,
   "metadata": {},
   "outputs": [],
   "source": []
  },
  {
   "cell_type": "markdown",
   "metadata": {
    "colab_type": "text",
    "id": "8b-r70o8p2Dm"
   },
   "source": [
    "### Experiment with Learning Rate\n",
    "* Run 5 experiments with various learning rate magnitudes: 1, .1, .01, .001, .0001.\n",
    "* Use the \"best\" batch size from the previous experiment\n",
    "* Visualize the results\n",
    "* Write up an analysis of the experiments and select the \"best\" performing model among your experiments. Make sure to compare against the previous experiments and your model's performance yesterday. "
   ]
  },
  {
   "cell_type": "code",
   "execution_count": null,
   "metadata": {},
   "outputs": [],
   "source": []
  },
  {
   "cell_type": "code",
   "execution_count": null,
   "metadata": {
    "colab": {},
    "colab_type": "code",
    "id": "_SA144xx8Luf"
   },
   "outputs": [],
   "source": []
  },
  {
   "cell_type": "markdown",
   "metadata": {
    "colab_type": "text",
    "id": "gxMtSRhV9Q7I"
   },
   "source": [
    "### Experiment with different Optimizers\n",
    "* Run 5 experiments with various optimizers available in TensorFlow. See list [here](https://www.tensorflow.org/api_docs/python/tf/keras/optimizers)\n",
    "* Visualize the results\n",
    "* Write up an analysis of the experiments and select the \"best\" performing model among your experiments. Make sure to compare against the previous experiments and your model's performance yesterday.\n",
    "* Repeat the experiment combining Learning Rate and different optimizers. Does the best performing model change? "
   ]
  },
  {
   "cell_type": "code",
   "execution_count": null,
   "metadata": {
    "colab": {},
    "colab_type": "code",
    "id": "ujLuzdNA91ip"
   },
   "outputs": [],
   "source": []
  },
  {
   "cell_type": "markdown",
   "metadata": {
    "colab_type": "text",
    "id": "ydAqeY9S8uHA"
   },
   "source": [
    "### Additional Written Tasks\n",
    "\n",
    "1. Describe the process of backpropagation in your own words: \n",
    "```\n",
    "Your answer goes here.\n",
    "```\n",
    "\n"
   ]
  },
  {
   "cell_type": "markdown",
   "metadata": {
    "colab_type": "text",
    "id": "FwlRJSfBlCvy"
   },
   "source": [
    "## Stretch Goals: \n",
    "\n",
    "- Implement GridSearch on anyone of the experiments\n",
    "- On the learning rate experiments, implement [EarlyStopping](https://www.tensorflow.org/api_docs/python/tf/keras/callbacks/EarlyStopping)\n",
    "- Review material on the math behind gradient descent: \n",
    "\n",
    "  - Gradient Descent\n",
    "    - Gradient Descent, Step-by-Step  by StatQuest w/ Josh Starmer. This will help you understand the gradient descent based optimization that happens underneath the hood of neural networks. It uses a non-neural network example, which I believe is a gentler introduction. You will hear me refer to this technique as \"vanilla\" gradient descent. \n",
    "    - Stochastic Gradient Descent, Clearly Explained!!! by StatQuest w/ Josh Starmer. This builds on the techniques in the previous video.  This technique is the one that is actually implemented inside modern 'nets. \n",
    "These are great resources to help you understand tomorrow's material at a deeper level. I highly recommend watching these ahead of tomorrow.\n",
    "\n",
    "  - Background Math\n",
    "    - Dot products and duality by 3Blue1Brown. Explains the core linear algebra operation happening in today's perceptron.\n",
    "The paradox of the derivative by 3Blue1Brown. Does a great job explaining a derivative. \n",
    "    - Visualizing the chain rule and product rule by 3Blue1Brown. Explains the black magic that happens within Stochastic Gradient Descent. \n",
    "These math resources are very much optional. They can be very heady, but I encourage you to explore. Your understanding of neural networks will greatly increase if you understand this math background.\n",
    "\n",
    "\n"
   ]
  }
 ],
 "metadata": {
  "colab": {
   "collapsed_sections": [],
   "name": "LS_DS_432_Train_Assignment.ipynb",
   "provenance": []
  },
  "kernelspec": {
   "display_name": "U4-S2-NN",
   "language": "python",
   "name": "u4-s2-nn"
  },
  "language_info": {
   "codemirror_mode": {
    "name": "ipython",
    "version": 3
   },
   "file_extension": ".py",
   "mimetype": "text/x-python",
   "name": "python",
   "nbconvert_exporter": "python",
   "pygments_lexer": "ipython3",
   "version": "3.7.0"
  },
  "nteract": {
   "version": "0.22.4"
  }
 },
 "nbformat": 4,
 "nbformat_minor": 1
}
